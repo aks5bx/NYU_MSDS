{
 "cells": [
  {
   "cell_type": "code",
   "execution_count": 1,
   "metadata": {},
   "outputs": [],
   "source": [
    "%matplotlib inline\n",
    "import matplotlib\n",
    "import numpy as np\n",
    "import matplotlib.pyplot as plt"
   ]
  },
  {
   "cell_type": "code",
   "execution_count": 70,
   "metadata": {},
   "outputs": [
    {
     "name": "stdout",
     "output_type": "stream",
     "text": [
      "The matrix A contains 3000 points in dimension 1000\n"
     ]
    },
    {
     "data": {
      "text/plain": [
       "(3000, 1000)"
      ]
     },
     "execution_count": 70,
     "metadata": {},
     "output_type": "execute_result"
    }
   ],
   "source": [
    "# Load the data matrix\n",
    "A = np.loadtxt('mysterious_data.txt')\n",
    "n,d = A.shape\n",
    "print(f'The matrix A contains {n} points in dimension {d}')"
   ]
  },
  {
   "cell_type": "markdown",
   "metadata": {},
   "source": [
    "Each row of $A$ corresponds to a datapoint."
   ]
  },
  {
   "cell_type": "markdown",
   "metadata": {},
   "source": []
  },
  {
   "cell_type": "code",
   "execution_count": 46,
   "metadata": {},
   "outputs": [],
   "source": [
    "### CENTER YOUR DATA ###\n",
    "mean_row = A.mean(axis=0)\n",
    "A_centered = A - mean_row"
   ]
  },
  {
   "cell_type": "code",
   "execution_count": 50,
   "metadata": {},
   "outputs": [],
   "source": [
    "### COMPUTE COVARIANCE ###\n",
    "S = A.transpose() @ A"
   ]
  },
  {
   "cell_type": "code",
   "execution_count": 96,
   "metadata": {},
   "outputs": [
    {
     "data": {
      "text/plain": [
       "1243909.9724750144"
      ]
     },
     "execution_count": 96,
     "metadata": {},
     "output_type": "execute_result"
    }
   ],
   "source": [
    "### COMPUTE EIGEN DECOMP ###\n",
    "from numpy import linalg as LA\n",
    "w, v = LA.eigh(S)\n",
    "## w is eigenvalues\n",
    "## v is eigenvectors"
   ]
  },
  {
   "cell_type": "code",
   "execution_count": 67,
   "metadata": {},
   "outputs": [
    {
     "data": {
      "text/plain": [
       "<matplotlib.collections.PathCollection at 0x7fb782b359a0>"
      ]
     },
     "execution_count": 67,
     "metadata": {},
     "output_type": "execute_result"
    },
    {
     "data": {
      "image/png": "[encoded data removed]",
      "text/plain": [
       "<Figure size 432x288 with 1 Axes>"
      ]
     },
     "metadata": {
      "needs_background": "light"
     },
     "output_type": "display_data"
    }
   ],
   "source": [
    "### FIND BEST K ### \n",
    "import matplotlib.pyplot as plt\n",
    "x_axis = np.arange(1,1001)\n",
    "\n",
    "plt.scatter(x_axis, np.flip(w))\n",
    "\n",
    "## Using method 2 from the notes, we choose k = 2"
   ]
  },
  {
   "cell_type": "code",
   "execution_count": 120,
   "metadata": {},
   "outputs": [],
   "source": [
    "### COMPUTE REDUCED VALUES #### \n",
    "\n",
    "v1 = v[:,-1]\n",
    "## We scale our second eigenvector in order to get the plot we want in the end\n",
    "## This is still valid for PCA because we are simply scaling our eigenvector, which maintains the properties of an eigenvector\n",
    "v2 = v[:,-2] * -1\n",
    "\n",
    "eigenvectors = [v1,v2]\n",
    "\n",
    "reduced_A = np.zeros((3000, 2))\n",
    "\n",
    "i = 0\n",
    "for i in range(0,3000):\n",
    "    for j in range(0,2):\n",
    "        reduced_A[i][j] = np.dot(eigenvectors[j], A_centered[i,:])"
   ]
  },
  {
   "cell_type": "code",
   "execution_count": 125,
   "metadata": {},
   "outputs": [
    {
     "data": {
      "text/plain": [
       "array([-3.25936806e-02,  4.20776865e-02, -2.07254294e-02, -1.84501885e-03,\n",
       "       -2.12921767e-02, -3.29515036e-02, -8.91385549e-03, -4.94450169e-02,\n",
       "        3.03130564e-02,  7.39690013e-02, -8.09951970e-03,  2.64081389e-02,\n",
       "        3.86166072e-02, -1.31943852e-02,  1.09700195e-03,  4.64866740e-02,\n",
       "       -5.21947899e-03,  5.41284479e-02, -7.74313710e-03,  1.39250711e-02,\n",
       "       -1.98206837e-02,  2.09987624e-02,  1.95476148e-02, -7.55244492e-02,\n",
       "        2.22664386e-03, -2.62423502e-02,  5.06972674e-02, -1.94876396e-02,\n",
       "       -1.40321174e-02, -2.03196116e-03, -4.86710293e-02,  1.60793344e-02,\n",
       "       -6.68418938e-02,  2.28555564e-02,  2.50177806e-02, -1.01377355e-02,\n",
       "       -1.55101337e-02, -6.93713726e-03, -1.42572943e-02, -1.52588983e-02,\n",
       "       -5.30430737e-02, -2.06128454e-02, -4.54305115e-02, -3.63702045e-02,\n",
       "       -7.29912195e-02, -2.26577320e-02, -2.03001006e-02,  2.50241908e-02,\n",
       "        2.53270282e-02,  1.78885438e-02, -2.66672795e-02, -1.03031790e-02,\n",
       "       -2.53905011e-02,  1.69552298e-02, -4.01460679e-02, -3.34431507e-02,\n",
       "       -4.37519043e-02, -4.90731577e-02, -9.66283561e-03, -2.27839472e-02,\n",
       "        2.95188421e-02,  2.80935318e-02,  6.08676841e-03, -3.72611484e-02,\n",
       "        1.02746534e-02, -7.38099328e-03,  4.30068212e-02,  6.41780204e-02,\n",
       "        1.88652525e-02,  2.45019854e-02, -4.12429245e-03, -1.08449476e-02,\n",
       "       -4.88682633e-02,  2.90408952e-03, -5.57766174e-02,  4.63032403e-03,\n",
       "        7.83262045e-03,  4.82725962e-02, -7.91054662e-03, -3.54161138e-02,\n",
       "       -4.40242525e-02, -9.53927582e-02, -2.41563368e-02,  3.08885055e-02,\n",
       "        2.02401291e-02,  4.28052375e-02, -9.91180603e-02, -2.68750704e-02,\n",
       "       -2.97116069e-02, -6.01485564e-03,  4.15263476e-03, -2.35320316e-02,\n",
       "       -2.94570847e-02,  1.29865411e-02,  7.04180131e-02, -3.24285682e-02,\n",
       "        3.91311834e-02,  1.30164771e-02, -2.95891979e-02, -7.88038154e-04,\n",
       "        4.55041818e-02,  5.21219086e-03, -2.73465603e-02,  2.51129545e-02,\n",
       "        1.04008800e-02, -2.18227944e-03, -1.96534779e-02,  6.32587469e-03,\n",
       "       -1.35997158e-02,  4.20015892e-02, -2.48131435e-03,  1.73016515e-02,\n",
       "       -1.48321586e-02,  9.32693437e-03, -1.21828600e-02, -2.81282201e-02,\n",
       "       -5.88174029e-02,  2.84911807e-03,  1.83737755e-02,  5.12552997e-02,\n",
       "       -2.86332891e-02, -3.57747591e-02, -2.49835839e-02,  2.86173406e-03,\n",
       "       -4.64638153e-03,  3.12034998e-02, -1.79085234e-04,  9.71201727e-03,\n",
       "       -1.25644472e-02, -8.64948529e-03, -4.43047491e-03, -1.84746341e-02,\n",
       "       -2.57367523e-02,  2.77672131e-02,  4.74994147e-03,  9.80685252e-03,\n",
       "        7.83731956e-02,  9.55615650e-03, -1.10451794e-02, -4.62481169e-02,\n",
       "       -3.20843295e-02,  2.60960843e-02, -7.60315876e-03, -1.58353146e-02,\n",
       "        4.79707260e-03, -8.61232563e-03, -2.95266701e-02,  3.62196375e-02,\n",
       "       -6.63319476e-02, -7.10736371e-02,  3.24831818e-02,  1.11815512e-02,\n",
       "        5.10134454e-03,  8.50742247e-03, -1.79329544e-02,  2.88989944e-02,\n",
       "       -3.11560828e-02, -4.33851986e-02,  6.89728325e-02, -3.67223483e-02,\n",
       "       -3.00512469e-03, -5.67584291e-02,  1.70384318e-02, -1.92841847e-02,\n",
       "       -8.82739320e-03,  4.58906484e-02,  1.33591570e-04, -1.15676360e-02,\n",
       "       -3.46355797e-02,  3.31476120e-03,  2.96302274e-02, -5.43457012e-02,\n",
       "       -1.34876682e-02,  2.34353271e-02, -2.78270427e-02,  2.81824334e-04,\n",
       "        3.29326170e-03, -4.03881335e-02,  4.27580285e-02, -7.53431686e-02,\n",
       "       -4.12165395e-02,  9.97594203e-03,  3.79842276e-02,  2.58995857e-02,\n",
       "       -2.11793374e-02,  3.03876412e-02,  4.55933430e-03, -3.85050032e-02,\n",
       "        7.93328287e-02, -3.19154814e-03,  8.22176253e-02,  1.13199881e-02,\n",
       "        2.91612117e-02,  3.49154197e-03,  1.28022445e-02,  7.50531856e-03,\n",
       "        3.56917831e-02, -3.64677945e-02, -1.74919983e-02, -7.05350059e-03,\n",
       "        8.84104769e-03, -1.60510773e-03,  1.81202330e-02, -2.78588977e-02,\n",
       "        2.66550030e-02, -6.24760664e-02, -1.56369880e-03,  1.49869794e-02,\n",
       "        3.77785501e-03,  4.72286599e-02, -1.81352761e-02, -3.24932749e-02,\n",
       "       -4.47577622e-02, -9.01876416e-03, -4.10400806e-03, -1.37030267e-03,\n",
       "        5.63464066e-02,  1.05314555e-03,  4.68344765e-02, -4.72446459e-02,\n",
       "        1.84119049e-02,  1.91176214e-03,  1.98932753e-03, -5.00243441e-05,\n",
       "        3.23379249e-02,  3.64081366e-02,  2.68271696e-02,  3.11584755e-02,\n",
       "       -5.00095326e-02, -1.09953582e-03, -4.44896458e-02, -8.69254378e-04,\n",
       "       -3.59857681e-02, -1.22227776e-02, -1.40373434e-02,  2.55027494e-02,\n",
       "        4.88250757e-02, -5.19513048e-02,  5.57093857e-02, -2.68629374e-02,\n",
       "        4.05616677e-02, -3.45902566e-03,  2.10234039e-03,  3.07127947e-03,\n",
       "       -8.42167551e-03,  2.64725041e-02,  5.00493124e-04,  2.34895991e-02,\n",
       "        3.06855935e-02,  3.49624679e-02, -1.43932120e-02, -3.30988069e-03,\n",
       "        1.06696301e-02,  1.30376383e-02, -1.15694051e-03,  2.84408722e-02,\n",
       "       -1.02996797e-02,  4.49691381e-02, -1.96685816e-02,  1.48398562e-02,\n",
       "        2.80966641e-03, -1.41978054e-02,  4.61024661e-02,  3.06689412e-02,\n",
       "        2.34435514e-03,  2.95289037e-02, -3.32996839e-02,  8.44348839e-03,\n",
       "       -2.95350253e-02,  4.32989657e-03,  4.71044895e-02,  5.54041447e-02,\n",
       "        5.65896104e-02,  2.33959203e-02, -3.01927987e-02,  1.60344179e-02,\n",
       "        7.22869239e-02, -2.15495896e-02,  4.58239696e-02,  3.93890203e-03,\n",
       "       -4.14861417e-02, -2.79412909e-02,  3.61385795e-02, -1.77874709e-03,\n",
       "        4.98261221e-02, -8.89572597e-03,  3.30582174e-02,  5.55581447e-02,\n",
       "        1.20198545e-03,  4.72853103e-03, -4.82827567e-02,  4.24252910e-02,\n",
       "       -1.50275776e-02,  1.84300345e-02, -5.19774169e-02, -3.29357947e-02,\n",
       "        2.02957396e-02, -1.25133483e-02,  3.36705140e-02, -6.79280625e-03,\n",
       "       -1.45926537e-02, -1.44206974e-02, -4.94306154e-02, -2.70770725e-03,\n",
       "        2.78704871e-02,  8.72650813e-03, -3.12560364e-02, -4.76991765e-02,\n",
       "        4.51345454e-02,  2.93057108e-02,  7.15641876e-02, -8.70420771e-03,\n",
       "        3.04442489e-02,  3.10958653e-02,  4.42007105e-02, -3.56850768e-02,\n",
       "        2.78784939e-02, -6.12906933e-02,  3.60732746e-02, -3.71656307e-03,\n",
       "        1.53163629e-02,  1.72027876e-02,  1.76967528e-02,  1.06773045e-02,\n",
       "        2.92918880e-02, -1.83313563e-02, -4.03896516e-03,  2.74136427e-03,\n",
       "       -5.92686065e-03,  5.00121193e-02,  2.73244355e-02,  1.26646111e-02,\n",
       "        7.13594377e-02, -1.24989309e-02, -1.52895040e-02,  4.29468177e-02,\n",
       "        1.90942265e-02,  1.80923505e-02,  3.30977875e-02,  4.06023087e-02,\n",
       "        3.28024781e-02, -3.21998854e-02, -6.26087227e-03,  3.38725700e-03,\n",
       "       -7.24624688e-02, -1.07860398e-02, -6.03096588e-03, -6.30040687e-02,\n",
       "        3.19522576e-02, -2.13573990e-03, -3.31613807e-02,  5.16340824e-02,\n",
       "       -5.45348796e-03,  7.57679905e-02,  5.27271779e-02, -5.29511284e-03,\n",
       "       -2.89991926e-02,  1.96523337e-02,  5.34892912e-03,  3.49140764e-02,\n",
       "        6.05749600e-02,  3.93180036e-03,  4.98525987e-02,  1.10067758e-02,\n",
       "        2.09910867e-02,  5.47292864e-02, -1.30469545e-02,  2.36912735e-02,\n",
       "       -2.46145591e-02,  6.37799480e-02, -6.38555990e-03,  2.35767218e-02,\n",
       "       -3.80339659e-02, -3.90783199e-03, -5.93676038e-02, -5.16032096e-02,\n",
       "       -2.57091400e-02, -1.17442783e-02, -2.21912472e-02,  4.39383649e-02,\n",
       "        1.25711576e-02,  3.71451743e-03, -4.26295880e-02, -8.37077807e-03,\n",
       "       -4.88348908e-03,  2.55170832e-02, -1.48127224e-02, -6.86572668e-02,\n",
       "        4.49694723e-02, -3.12002131e-02, -3.72058851e-02,  4.27366342e-02,\n",
       "        3.30951437e-02, -5.12318367e-02, -2.26854705e-03,  4.31812721e-02,\n",
       "        2.52158097e-02,  1.17883881e-02, -3.26084267e-02,  3.31304411e-02,\n",
       "       -4.99345804e-02,  1.92416588e-02, -3.30106167e-03,  9.02588593e-03,\n",
       "       -5.27051491e-03,  2.53576546e-02, -2.76515361e-02, -6.24245137e-02,\n",
       "        4.23113966e-02,  4.79404652e-03, -2.61650562e-02, -2.63824213e-02,\n",
       "       -4.87367228e-02,  5.27620504e-02,  5.37393557e-02, -1.93299887e-02,\n",
       "       -1.38204519e-02, -4.28997275e-02,  2.21363533e-02, -3.45397706e-02,\n",
       "       -2.06486509e-02,  1.38533768e-02,  4.12511420e-02, -2.73689880e-02,\n",
       "        2.31649764e-03, -6.26017324e-03, -1.84534969e-02,  6.29212812e-02,\n",
       "        6.05885994e-03, -1.40492818e-02, -4.11229611e-02, -3.55880715e-02,\n",
       "       -4.12948588e-02,  2.94394695e-02, -2.53929275e-02, -2.64336821e-02,\n",
       "        1.39559086e-02, -2.59537019e-02,  4.61836061e-02,  5.94683978e-03,\n",
       "       -1.10481795e-02, -5.34396669e-02, -1.46821793e-02,  9.70763080e-03,\n",
       "       -3.57822282e-02,  1.10860188e-02,  2.95964133e-02,  1.70077649e-02,\n",
       "        3.86414953e-02,  2.26887779e-02, -1.40032337e-02, -2.19661777e-02,\n",
       "       -2.81427590e-02, -2.97468997e-02, -2.39862083e-02,  6.22339329e-03,\n",
       "       -6.11736186e-02, -5.62542226e-03,  1.39405008e-02, -2.69079643e-02,\n",
       "        6.15241776e-02,  4.41202828e-03,  1.16261576e-02, -1.56692821e-02,\n",
       "       -2.52307969e-02, -9.39503455e-03,  1.87329996e-02, -7.26472344e-03,\n",
       "        2.81831731e-02, -9.46994696e-03,  1.51944720e-03, -5.24151307e-02,\n",
       "       -1.09868575e-02,  1.50852146e-02,  1.69791399e-04, -1.90868114e-02,\n",
       "       -2.61906149e-02, -1.18155490e-02,  1.77280572e-02,  2.51133136e-02,\n",
       "       -2.40950812e-02,  2.64021072e-02,  7.25700689e-02, -4.44503372e-03,\n",
       "       -3.12498630e-02,  2.35403924e-02, -3.47587952e-03,  1.27160490e-04,\n",
       "        2.17616907e-02, -6.40339695e-03, -4.11348320e-02,  3.79941650e-02,\n",
       "       -5.52139428e-03,  1.60240049e-02, -5.52987895e-02,  1.95441006e-02,\n",
       "       -3.11716865e-02, -3.12708428e-02, -1.37690588e-02,  2.28842135e-02,\n",
       "        1.50707112e-02, -4.21571440e-03, -2.70345709e-02,  1.10978598e-03,\n",
       "       -1.43310899e-02, -2.86353114e-02,  6.37771742e-02, -1.29844392e-02,\n",
       "       -2.81036879e-02,  6.21062832e-02, -4.79100308e-02,  3.12065869e-03,\n",
       "        3.27812166e-02, -2.82544594e-02,  4.55585811e-03, -6.79200222e-02,\n",
       "       -2.04997623e-02, -7.20903472e-02, -2.64236466e-02, -4.70600834e-02,\n",
       "       -1.68741961e-02, -3.76781145e-02,  2.16868391e-02,  8.41748369e-02,\n",
       "        1.33192545e-02,  3.56825409e-02, -1.01705929e-02, -3.29958113e-02,\n",
       "        2.31382668e-02, -4.05381133e-02, -9.68745781e-03, -2.78964001e-02,\n",
       "       -7.54291817e-03,  4.09033247e-02, -3.03964957e-02,  2.27652889e-02,\n",
       "       -4.58046796e-02,  4.16790465e-02,  9.63529043e-02,  2.44335818e-02,\n",
       "       -4.75546210e-03, -1.81216105e-02, -3.72463915e-02, -6.02585608e-03,\n",
       "        1.27537662e-02, -3.64561576e-02,  6.02774060e-03,  1.18191728e-02,\n",
       "        1.54615103e-02,  1.46340853e-02,  1.35560588e-02, -2.00495819e-02,\n",
       "       -2.24079234e-03,  2.05168561e-02,  2.04808825e-03, -2.49798497e-02,\n",
       "       -4.86106989e-02, -4.36876993e-02, -5.01091169e-02, -5.23368821e-03,\n",
       "       -3.00789141e-02,  2.11723861e-02,  3.23064093e-02, -3.18822596e-02,\n",
       "        2.49855592e-02, -3.95882821e-02, -1.77145870e-03, -7.75468603e-02,\n",
       "       -3.16441731e-03, -2.98215889e-02,  1.06804369e-02, -7.23982441e-04,\n",
       "        3.31413614e-02, -2.03865944e-02,  2.17643546e-02,  4.76224107e-02,\n",
       "       -7.74722981e-03, -3.67541045e-03,  1.50900125e-02,  2.35809656e-02,\n",
       "       -2.42601247e-02,  3.48569265e-03, -1.19753705e-02,  2.55202019e-02,\n",
       "        3.19172668e-02,  4.03433036e-02, -2.44012901e-02,  2.17265637e-02,\n",
       "        2.57278185e-02,  5.12357530e-03, -1.24672976e-02,  1.35499362e-04,\n",
       "        1.25609876e-03, -1.43502278e-02,  4.22914713e-02, -4.29904554e-02,\n",
       "        4.56069678e-02, -3.60036328e-03, -9.25944595e-03, -5.97417114e-03,\n",
       "        8.32294578e-03,  4.31332066e-02, -3.08587964e-02, -8.83577314e-02,\n",
       "       -4.20608283e-02, -1.20383660e-02,  7.70698378e-03, -1.23746583e-02,\n",
       "        4.36580039e-02, -6.86269302e-03,  1.01814205e-02, -4.02209523e-03,\n",
       "       -6.24286426e-03,  1.80514366e-02,  5.27287020e-02,  6.38441549e-02,\n",
       "       -1.71718672e-02,  1.79905198e-02, -2.73665910e-02, -3.97843302e-02,\n",
       "       -2.40959153e-02, -3.53906565e-02,  2.19460786e-02, -2.52609134e-02,\n",
       "        5.44746090e-03, -1.02020227e-02, -4.02156639e-03,  7.33550517e-03,\n",
       "       -4.13029975e-02, -1.20924105e-02, -4.84791800e-02,  3.32022281e-02,\n",
       "       -2.02528707e-02, -5.90847684e-02, -2.10326795e-02,  1.39848415e-02,\n",
       "       -1.52809807e-02, -8.25265879e-03, -3.73746300e-02,  3.39497170e-04,\n",
       "        1.81827829e-02, -4.40730999e-03,  7.60549666e-02, -5.52233699e-03,\n",
       "       -3.09187675e-03,  2.44952442e-02,  2.44674252e-02,  3.66197920e-02,\n",
       "       -1.95010063e-02, -1.06763459e-02, -5.52632144e-02, -4.82375993e-02,\n",
       "        3.28777118e-02,  9.96568822e-03,  5.60685402e-02,  3.24605517e-03,\n",
       "        1.13913598e-02, -5.46439966e-02, -1.38671456e-02,  1.76953150e-02,\n",
       "        2.00520641e-02, -2.85932078e-02, -4.74655659e-02, -1.59465904e-02,\n",
       "        2.87136753e-03,  6.79382729e-02, -3.72835569e-02,  1.97453784e-02,\n",
       "       -2.75990049e-02, -1.48899769e-02, -4.75325131e-02,  2.85973014e-02,\n",
       "       -1.39533508e-02, -4.89989867e-02, -2.75100124e-03, -9.91109617e-02,\n",
       "       -4.15465501e-02,  9.14961697e-03,  3.54622723e-02,  1.22467695e-02,\n",
       "       -1.95907814e-02,  2.85234802e-02,  2.67835032e-02, -3.01805822e-02,\n",
       "        9.37150965e-03, -2.17409624e-02, -2.40825493e-02, -2.49624730e-02,\n",
       "        3.48674607e-02, -1.69777831e-02, -7.48762301e-03,  8.27559518e-02,\n",
       "        9.41835348e-03,  5.25684366e-03, -3.67324207e-02,  3.41926992e-02,\n",
       "        2.22739839e-02,  7.35455646e-03, -5.01109156e-03, -2.16474669e-02,\n",
       "       -1.24762696e-02,  3.14350099e-02,  8.37392605e-03, -1.71591737e-02,\n",
       "       -1.58918300e-02,  1.67145675e-02,  6.57393021e-03, -2.05180904e-02,\n",
       "       -2.77070867e-02, -6.72122102e-02,  5.27511706e-02,  4.61824149e-02,\n",
       "        7.60357933e-03,  1.07490809e-03,  3.39504350e-02, -3.65942342e-02,\n",
       "       -1.94771803e-02, -1.57071320e-02,  1.17185937e-02, -5.26702347e-04,\n",
       "       -2.48241713e-02,  4.74704904e-02, -1.02745616e-02,  4.10669047e-02,\n",
       "        4.31061448e-04,  2.57641017e-03, -2.77460561e-02, -3.55186808e-02,\n",
       "       -7.05840373e-03,  7.27374431e-04, -5.80681567e-03,  2.47246608e-02,\n",
       "       -3.22579682e-02,  3.49741980e-02,  2.80368429e-02,  5.46483106e-03,\n",
       "        2.87983702e-02, -6.16297306e-03, -6.24811673e-03, -3.79310709e-02,\n",
       "        6.16158237e-03, -3.27621886e-02,  2.86062146e-02,  3.00282525e-02,\n",
       "        6.50792396e-02, -4.27521237e-02, -2.99847559e-03, -2.77888011e-02,\n",
       "        2.19342003e-02, -1.72973897e-02, -5.55152247e-02, -1.23552725e-03,\n",
       "       -2.20837737e-02,  2.08629738e-02,  2.70858933e-02, -4.59121275e-02,\n",
       "        2.01468278e-02, -1.26331035e-02,  9.95954162e-03,  8.94404322e-03,\n",
       "       -1.02912694e-02, -9.95215600e-02, -1.03289690e-02, -1.14280178e-02,\n",
       "       -2.17262854e-02, -3.63658282e-02,  2.48220910e-03, -1.32086052e-02,\n",
       "       -1.46375461e-02, -2.11953399e-02, -3.35997690e-02, -3.46049239e-02,\n",
       "       -1.96828667e-02,  2.02845818e-02, -2.60467754e-02, -3.29511091e-02,\n",
       "       -1.40743031e-02, -2.10704488e-02,  3.57059110e-02,  4.13814672e-02,\n",
       "       -3.30613618e-02, -6.85032479e-03, -4.90034064e-03,  5.57309522e-03,\n",
       "       -1.54200767e-02, -4.75808501e-03, -9.92946025e-03,  1.37045865e-02,\n",
       "       -4.41368906e-02,  7.92485526e-03, -1.13859894e-02,  4.42553709e-02,\n",
       "        4.42222345e-03,  2.07053218e-02, -1.67517608e-02, -3.13948661e-02,\n",
       "       -9.32111199e-03,  1.96238434e-02,  1.68125463e-02,  9.13728267e-02,\n",
       "        9.21828211e-03,  5.35095388e-02,  8.82993295e-03, -2.44462851e-02,\n",
       "        1.87488562e-02, -4.69009290e-02, -4.78583859e-02,  1.63098060e-02,\n",
       "        2.09066935e-02, -3.70522345e-02, -1.22668020e-02,  3.30040704e-02,\n",
       "        1.44020162e-02,  3.84115270e-03,  5.82513225e-03, -1.87010228e-02,\n",
       "        2.41061059e-03,  1.34507586e-02,  5.94426382e-02, -2.50054479e-02,\n",
       "        3.17779623e-02, -5.24670331e-03, -5.94246932e-03,  3.01877041e-02,\n",
       "        9.74108839e-02, -2.99816373e-02,  8.29377307e-03,  4.24926174e-03,\n",
       "       -2.06676966e-02, -8.50065294e-04, -4.69834082e-02,  1.65626706e-02,\n",
       "       -7.09285775e-03, -1.11761080e-02,  1.33817310e-02,  7.25789233e-02,\n",
       "        1.14794893e-02, -2.97197967e-02,  4.29927281e-02,  5.55971186e-03,\n",
       "       -1.95390214e-03,  1.76936493e-02, -1.22098042e-02, -4.98601061e-03,\n",
       "       -6.59953470e-03,  2.59953653e-02, -8.82017056e-03,  6.20004740e-04,\n",
       "        1.69771955e-02,  4.60884944e-03,  2.02564832e-02,  4.16983867e-02,\n",
       "        3.33176982e-02, -1.17092240e-03,  4.05995347e-03,  8.17803035e-03,\n",
       "        3.48385698e-02,  4.37751274e-02, -7.64133136e-02, -2.60994984e-03,\n",
       "        4.54716989e-02, -5.61917722e-02,  4.25102637e-02, -1.15493021e-02,\n",
       "       -3.07791949e-02, -8.56713904e-03, -2.17843937e-02, -7.37153909e-03,\n",
       "       -6.43759916e-02,  7.38063160e-02,  8.17653534e-04, -4.82262926e-03,\n",
       "        7.18142356e-03,  1.88386175e-02,  1.25097483e-02, -1.25093423e-04,\n",
       "       -3.05186283e-02,  2.02969045e-02, -4.02855718e-02, -1.33992293e-03,\n",
       "       -1.03957999e-02,  1.07799852e-02,  3.45681297e-02, -1.05520555e-02,\n",
       "       -8.80310264e-03,  9.73438406e-03, -2.64493095e-02,  4.15531106e-02,\n",
       "        7.41525521e-03,  3.15132767e-02,  3.74066476e-02, -1.47421926e-02,\n",
       "       -1.07004849e-02, -5.71727460e-03, -1.62968818e-02,  4.68332215e-02,\n",
       "       -4.31747317e-02,  6.33986703e-03, -1.60220585e-02,  4.37246738e-02,\n",
       "        5.27497680e-02,  6.88376297e-02,  2.79718644e-02, -1.12324098e-02,\n",
       "       -7.68978968e-03,  8.10084305e-03, -9.93508045e-03, -3.37010439e-02,\n",
       "        4.49507662e-02,  8.88026478e-02, -3.41153044e-02,  3.85725160e-02,\n",
       "       -8.25190651e-03,  3.20167977e-02,  2.66470445e-02, -1.21607121e-02,\n",
       "       -3.27766404e-02, -5.05169302e-03,  4.96101566e-02,  3.27866084e-02,\n",
       "        1.30725603e-02, -4.01220221e-04, -3.00332994e-02,  6.58376276e-02,\n",
       "       -1.96130325e-02, -1.65916301e-02,  2.26763519e-02, -3.50657685e-02,\n",
       "        2.11097954e-03, -1.04913926e-02, -1.85862673e-02, -3.01495605e-02,\n",
       "       -4.44708865e-04, -1.27983601e-03, -7.38203159e-03,  2.88037729e-02,\n",
       "       -3.99720563e-02, -2.53894122e-03,  1.67978224e-02,  2.37502798e-02,\n",
       "        7.84746766e-03, -6.51344910e-04,  3.68109929e-02, -7.96478098e-03,\n",
       "        2.68806172e-02,  4.67527877e-02,  8.09608746e-03,  7.67100954e-04,\n",
       "        2.78890499e-02,  4.78298379e-03, -7.58203923e-03,  9.67159066e-03,\n",
       "        4.50063281e-03,  1.06665087e-02,  3.14962046e-02, -3.82909531e-02,\n",
       "        3.15255339e-03, -2.87741006e-02, -1.64404405e-02,  2.45585759e-02,\n",
       "        1.47043961e-02, -6.12385601e-02, -5.86564916e-02,  7.20580443e-03,\n",
       "        2.21897595e-02,  3.09730452e-02,  3.85604557e-02, -1.09170442e-02,\n",
       "        3.43941211e-02, -3.24927118e-02,  4.28456789e-02,  2.80859786e-02,\n",
       "        6.65902682e-03, -3.09338548e-03,  4.27051849e-03, -6.75411770e-03,\n",
       "       -4.17612024e-02,  1.71201957e-02, -1.51886987e-02,  3.46144660e-02,\n",
       "       -2.68345951e-02,  2.30402197e-03, -6.81144932e-02,  2.50968810e-02,\n",
       "       -1.93268982e-02,  9.05167716e-03, -2.67329722e-02, -6.72629584e-02,\n",
       "        6.93030496e-03,  2.23014498e-02, -5.95227891e-02,  2.18261492e-02,\n",
       "        5.71437558e-02,  6.30493453e-02,  9.74241827e-03, -4.12230457e-04,\n",
       "       -1.19216727e-02,  2.31598685e-02,  1.30373311e-02,  1.02137808e-02])"
      ]
     },
     "execution_count": 125,
     "metadata": {},
     "output_type": "execute_result"
    }
   ],
   "source": [
    "v2"
   ]
  },
  {
   "cell_type": "code",
   "execution_count": 121,
   "metadata": {},
   "outputs": [
    {
     "data": {
      "text/plain": [
       "<matplotlib.collections.PathCollection at 0x7fb71026a460>"
      ]
     },
     "execution_count": 121,
     "metadata": {},
     "output_type": "execute_result"
    },
    {
     "data": {
      "image/png": "[encoded data removed]",
      "text/plain": [
       "<Figure size 432x288 with 1 Axes>"
      ]
     },
     "metadata": {
      "needs_background": "light"
     },
     "output_type": "display_data"
    }
   ],
   "source": [
    "### PLOT RESULT ###\n",
    "x, y = reduced_A.T\n",
    "plt.scatter(x,y)"
   ]
  }
 ],
 "metadata": {
  "interpreter": {
   "hash": "5b42ac72c9b76896d3ce7ea1e6ce0687bfd19e16fd46a51355c5c481bc6124b3"
  },
  "kernelspec": {
   "display_name": "Python 3.8.8 64-bit ('base': conda)",
   "name": "python3"
  },
  "language_info": {
   "codemirror_mode": {
    "name": "ipython",
    "version": 3
   },
   "file_extension": ".py",
   "mimetype": "text/x-python",
   "name": "python",
   "nbconvert_exporter": "python",
   "pygments_lexer": "ipython3",
   "version": "3.8.8"
  }
 },
 "nbformat": 4,
 "nbformat_minor": 2
}
