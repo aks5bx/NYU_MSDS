{
 "cells": [
  {
   "cell_type": "markdown",
   "metadata": {},
   "source": [
    "### Lab02 \n",
    "\n",
    "### 2021-09-09"
   ]
  },
  {
   "cell_type": "markdown",
   "metadata": {},
   "source": [
    "### Moments: Examples: Functions for Mean and Variance in Python "
   ]
  },
  {
   "cell_type": "code",
   "execution_count": 1,
   "metadata": {},
   "outputs": [],
   "source": [
    "import numpy as np"
   ]
  },
  {
   "cell_type": "code",
   "execution_count": 2,
   "metadata": {},
   "outputs": [
    {
     "name": "stdout",
     "output_type": "stream",
     "text": [
      "[0 1 2 3 4 5 6 7 8 9]\n",
      "(4.5, 8.25)\n"
     ]
    }
   ],
   "source": [
    "def fn_mean_var(data):\n",
    "    \n",
    "    if len(data) == 0: \n",
    "        return (None, None)\n",
    "\n",
    "    mean = sum(data) / len(data)\n",
    "    var = sum((data - mean)** 2) / len(data)\n",
    "    \n",
    "    return (mean, var)\n",
    "\n",
    "\n",
    "\n",
    "data = np.array((range(10)))\n",
    "print(data)\n",
    "print(fn_mean_var(data))"
   ]
  },
  {
   "cell_type": "code",
   "execution_count": 3,
   "metadata": {},
   "outputs": [
    {
     "name": "stdout",
     "output_type": "stream",
     "text": [
      "[0 1 2 3 4 5 6 7 8 9]\n",
      "{'mean': 4.5, 'var': 8.25}\n"
     ]
    }
   ],
   "source": [
    "def fn_mean_var_second(data):\n",
    "\n",
    "    if len(data) == 0:\n",
    "        return (None, None)\n",
    "\n",
    "    mean = sum(data) / len(data)\n",
    "    var = sum((data - mean) ** 2) / len(data)\n",
    "\n",
    "    # return a dictionary object\n",
    "    # so we have control of the output\n",
    "    return {\n",
    "        \"mean\": mean,\n",
    "        \"var\": var,\n",
    "    }\n",
    "\n",
    "\n",
    "data = np.array((range(10)))\n",
    "print(data)\n",
    "print(fn_mean_var_second(data))"
   ]
  },
  {
   "cell_type": "code",
   "execution_count": 4,
   "metadata": {},
   "outputs": [
    {
     "name": "stdout",
     "output_type": "stream",
     "text": [
      "[0, 1, 2, 3, 4, 5, 6, 7, 8, 9]\n",
      "{'mean': 4.5, 'var': 8.25}\n"
     ]
    }
   ],
   "source": [
    "# Always use a \"standard\" implementation if exists\n",
    "\n",
    "def fn_mean_var_third(data):\n",
    "    # the function translates data into a numpy array\n",
    "    # and applies the methods for mean and var\n",
    "    return {\"mean\": np.array(data).mean(), \"var\": np.array(data).var()}\n",
    "\n",
    "\n",
    "data = list(range(10))\n",
    "print(data)\n",
    "print(fn_mean_var_third(data))"
   ]
  },
  {
   "cell_type": "markdown",
   "metadata": {},
   "source": [
    "### Functions to calculate first 10 moments:\n",
    "\n",
    "\n",
    "Recall from lecture: \n",
    "\n",
    "$$M_k := E(X - E(X))^k$$"
   ]
  },
  {
   "cell_type": "code",
   "execution_count": 5,
   "metadata": {},
   "outputs": [
    {
     "name": "stdout",
     "output_type": "stream",
     "text": [
      "date:  [0, 1, 2, 3, 4, 5, 6, 7, 8, 9]\n",
      "momdents: {0: 1.0, 1: 0.0, 2: 8.25, 3: 0.0, 4: 120.8625, 5: 0.0, 6: 2079.515625, 7: 0.0, 8: 38444.30390625, 9: 0.0}\n"
     ]
    }
   ],
   "source": [
    "def fn_moments(data, number_of_moments=10):\n",
    "\n",
    "    if len(data) == 0:\n",
    "        return None\n",
    "\n",
    "    data = np.array(data)\n",
    "    mean = data.mean()\n",
    "\n",
    "    # return a dictionary: where k points to k-th moment\n",
    "    return {k: np.array((data - mean) ** k).mean() for k in range(number_of_moments)}\n",
    "\n",
    "\n",
    "data = list(range(10))\n",
    "print(\"date: \", data)\n",
    "print(\"momdents:\", fn_moments(data))"
   ]
  },
  {
   "cell_type": "markdown",
   "metadata": {},
   "source": [
    "Examine the 0th moment; \n",
    "\n",
    "Examine the odd moments: What values do they take? Does it makes sense? "
   ]
  },
  {
   "cell_type": "markdown",
   "metadata": {},
   "source": [
    "### Generate random variables "
   ]
  },
  {
   "cell_type": "code",
   "execution_count": 6,
   "metadata": {},
   "outputs": [
    {
     "data": {
      "text/plain": [
       "array([0.39832695, 0.18521393, 0.46254488, 0.73017618, 0.9121479 ,\n",
       "       0.04953912, 0.94611426, 0.21311086, 0.24772881, 0.3451323 ])"
      ]
     },
     "execution_count": 6,
     "metadata": {},
     "output_type": "execute_result"
    }
   ],
   "source": [
    "### generate 1000 i.i.d. random variables X_i's:\n",
    "\n",
    "\n",
    "### X_i follows unif[0, 1]\n",
    "number_of_samples = 1000\n",
    "sample_uniform = np.random.uniform(0, 1, number_of_samples)\n",
    "\n",
    "# display first 10\n",
    "sample_uniform[ :10]"
   ]
  },
  {
   "cell_type": "code",
   "execution_count": 7,
   "metadata": {},
   "outputs": [
    {
     "data": {
      "text/plain": [
       "{'mean': 0.5116874546484749, 'var': 0.08434051651951975}"
      ]
     },
     "execution_count": 7,
     "metadata": {},
     "output_type": "execute_result"
    }
   ],
   "source": [
    "# examine our function\n",
    "fn_mean_var_third(sample_uniform)"
   ]
  },
  {
   "cell_type": "code",
   "execution_count": 8,
   "metadata": {},
   "outputs": [
    {
     "data": {
      "text/plain": [
       "array([-0.30349567,  0.22718967, -1.5435742 , -0.42098806,  0.31968847,\n",
       "       -0.07634775,  0.27441126, -1.14210872, -1.19705341,  0.00924654])"
      ]
     },
     "execution_count": 8,
     "metadata": {},
     "output_type": "execute_result"
    }
   ],
   "source": [
    "### generate 1000 i.i.d. random variables X_i's:\n",
    "\n",
    "### X_i follows normal N(0, 1)\n",
    "number_of_samples = 1000\n",
    "mu, sigma = 0, 1\n",
    "sample_normal = np.random.normal(mu, sigma, number_of_samples)\n",
    "\n",
    "# display first 10\n",
    "sample_normal[ :10]"
   ]
  },
  {
   "cell_type": "code",
   "execution_count": 9,
   "metadata": {},
   "outputs": [
    {
     "data": {
      "text/plain": [
       "{'mean': 0.008323789932932467, 'var': 0.9264862706851009}"
      ]
     },
     "execution_count": 9,
     "metadata": {},
     "output_type": "execute_result"
    }
   ],
   "source": [
    "# examine our function\n",
    "fn_mean_var_third(sample_normal)"
   ]
  },
  {
   "cell_type": "markdown",
   "metadata": {},
   "source": [
    "### plot histograms: "
   ]
  },
  {
   "cell_type": "code",
   "execution_count": 10,
   "metadata": {},
   "outputs": [],
   "source": [
    "import matplotlib.pyplot as plt"
   ]
  },
  {
   "cell_type": "code",
   "execution_count": 11,
   "metadata": {},
   "outputs": [
    {
     "data": {
      "image/png": "[encoded data removed]",
      "text/plain": [
       "<Figure size 432x288 with 1 Axes>"
      ]
     },
     "metadata": {
      "needs_background": "light"
     },
     "output_type": "display_data"
    }
   ],
   "source": [
    "\n",
    "count, bins, ignored = plt.hist(sample_uniform, 15, density=True)\n",
    "plt.plot(bins, np.ones_like(bins), linewidth=2, color='r')\n",
    "plt.show()"
   ]
  },
  {
   "cell_type": "code",
   "execution_count": 12,
   "metadata": {},
   "outputs": [
    {
     "data": {
      "image/png": "[encoded data removed]",
      "text/plain": [
       "<Figure size 432x288 with 1 Axes>"
      ]
     },
     "metadata": {
      "needs_background": "light"
     },
     "output_type": "display_data"
    }
   ],
   "source": [
    "count, bins, ignored = plt.hist(sample_normal, 15, density=True)\n",
    "plt.plot(bins, np.ones_like(bins), linewidth=2, color='r')\n",
    "plt.show()"
   ]
  },
  {
   "cell_type": "markdown",
   "metadata": {},
   "source": [
    "### CDF for Uniform Distribution"
   ]
  },
  {
   "cell_type": "code",
   "execution_count": 13,
   "metadata": {},
   "outputs": [
    {
     "data": {
      "text/plain": [
       "Text(0, 0.5, '')"
      ]
     },
     "execution_count": 13,
     "metadata": {},
     "output_type": "execute_result"
    },
    {
     "data": {
      "image/png": "[encoded data removed]",
      "text/plain": [
       "<Figure size 432x288 with 1 Axes>"
      ]
     },
     "metadata": {
      "needs_background": "light"
     },
     "output_type": "display_data"
    }
   ],
   "source": [
    "### sample_uniform\n",
    "\n",
    "sorted_random_data = np.sort(sample_uniform)\n",
    "x = np.arange(len(sorted_random_data)) / float(len(sorted_random_data) - 1)\n",
    "\n",
    "fig = plt.figure()\n",
    "fig.suptitle('Uniform CDF: F(x) = P(X <= x)')\n",
    "ax = fig.add_subplot(111)\n",
    "ax.plot(sorted_random_data, x)\n",
    "ax.set_xlabel('x')\n",
    "ax.set_ylabel('')"
   ]
  },
  {
   "cell_type": "markdown",
   "metadata": {},
   "source": [
    "### CDF for Normal Distribution"
   ]
  },
  {
   "cell_type": "code",
   "execution_count": 14,
   "metadata": {},
   "outputs": [
    {
     "data": {
      "text/plain": [
       "Text(0, 0.5, '')"
      ]
     },
     "execution_count": 14,
     "metadata": {},
     "output_type": "execute_result"
    },
    {
     "data": {
      "image/png": "[encoded data removed]",
      "text/plain": [
       "<Figure size 432x288 with 1 Axes>"
      ]
     },
     "metadata": {
      "needs_background": "light"
     },
     "output_type": "display_data"
    }
   ],
   "source": [
    "### sample_normal\n",
    "\n",
    "sorted_random_data = np.sort(sample_normal)\n",
    "x = np.arange(len(sorted_random_data)) / float(len(sorted_random_data) - 1)\n",
    "\n",
    "fig = plt.figure()\n",
    "fig.suptitle('Normal CDF: F(x) = P(X <= x)')\n",
    "ax = fig.add_subplot(111)\n",
    "ax.plot(sorted_random_data, x)\n",
    "ax.set_xlabel('x')\n",
    "ax.set_ylabel('')"
   ]
  },
  {
   "cell_type": "code",
   "execution_count": null,
   "metadata": {},
   "outputs": [],
   "source": []
  }
 ],
 "metadata": {
  "kernelspec": {
   "display_name": "Python 3",
   "language": "python",
   "name": "python3"
  },
  "language_info": {
   "codemirror_mode": {
    "name": "ipython",
    "version": 3
   },
   "file_extension": ".py",
   "mimetype": "text/x-python",
   "name": "python",
   "nbconvert_exporter": "python",
   "pygments_lexer": "ipython3",
   "version": "3.7.5"
  }
 },
 "nbformat": 4,
 "nbformat_minor": 2
}
