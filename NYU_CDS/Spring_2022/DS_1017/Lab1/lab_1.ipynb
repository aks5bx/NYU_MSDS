{
  "nbformat": 4,
  "nbformat_minor": 0,
  "metadata": {
    "colab": {
      "name": "lab_1",
      "provenance": [],
      "collapsed_sections": [
        "355LmyCRd_sZ",
        "JI0slRqXFyXZ",
        "06n4G0ShMTWY"
      ]
    },
    "kernelspec": {
      "display_name": "Python 3",
      "name": "python3"
    }
  },
  "cells": [
    {
      "cell_type": "markdown",
      "metadata": {
        "id": "355LmyCRd_sZ"
      },
      "source": [
        "# Lab 1: ProPublica's Analysis of the COMPAS Tool\n",
        "\n",
        "In 2016, [ProPublica published an analysis](https://www.propublica.org/article/machine-bias-risk-assessments-in-criminal-sentencing) of the Correctional Offender Management Profiling for Alternative Sanctions (COMPAS) tool. COMPAS is a proprietary tool which generates a so-called risk assessment for defendants in a criminal trial. ProPublica's analysis focused on the \"recidivism score,\" which purports to provide the likelihood of recidivism (i.e. committing a misdemeanor of felony) within two years of assessment.\n",
        "\n",
        "In this lab, we will go through parts of ProPublica's analysis of COMPAS, focusing on how the recidivism risk scale varies by race and sex.\n",
        "\n",
        "This notebook has four stages in which we will:\n",
        "1. Import the data, implement a few pre-processing steps, and inspect the data\n",
        "2. Run a short exploratory analysis of the COMPAS recidivism score, our primary variable of interest\n",
        "3. Reproduce the logistic regression model in ProPublica's analysis and interpret the estimates\n",
        "4. Compute the predictive accuracy of the risk score labels"
      ]
    },
    {
      "cell_type": "markdown",
      "metadata": {
        "id": "pdeHvX_6woJg"
      },
      "source": [
        "# Packages and Modules"
      ]
    },
    {
      "cell_type": "markdown",
      "metadata": {
        "id": "lI_-xUcTnhv3"
      },
      "source": [
        "You may need to install the following packages:\n",
        "\n",
        "\n"
      ]
    },
    {
      "cell_type": "code",
      "metadata": {
        "id": "OgzPfEeYl28y",
        "outputId": "16cf6434-9f46-4721-b350-a6f55af9a44e",
        "colab": {
          "base_uri": "https://localhost:8080/"
        }
      },
      "source": [
        "%pip install pandas numpy statsmodels matplotlib seaborn"
      ],
      "execution_count": 1,
      "outputs": [
        {
          "output_type": "stream",
          "name": "stdout",
          "text": [
            "Requirement already satisfied: pandas in /usr/local/lib/python3.7/dist-packages (1.1.5)\n",
            "Requirement already satisfied: numpy in /usr/local/lib/python3.7/dist-packages (1.19.5)\n",
            "Requirement already satisfied: statsmodels in /usr/local/lib/python3.7/dist-packages (0.10.2)\n",
            "Requirement already satisfied: matplotlib in /usr/local/lib/python3.7/dist-packages (3.2.2)\n",
            "Requirement already satisfied: seaborn in /usr/local/lib/python3.7/dist-packages (0.11.2)\n",
            "Requirement already satisfied: python-dateutil>=2.7.3 in /usr/local/lib/python3.7/dist-packages (from pandas) (2.8.2)\n",
            "Requirement already satisfied: pytz>=2017.2 in /usr/local/lib/python3.7/dist-packages (from pandas) (2018.9)\n",
            "Requirement already satisfied: six>=1.5 in /usr/local/lib/python3.7/dist-packages (from python-dateutil>=2.7.3->pandas) (1.15.0)\n",
            "Requirement already satisfied: patsy>=0.4.0 in /usr/local/lib/python3.7/dist-packages (from statsmodels) (0.5.2)\n",
            "Requirement already satisfied: scipy>=0.18 in /usr/local/lib/python3.7/dist-packages (from statsmodels) (1.4.1)\n",
            "Requirement already satisfied: kiwisolver>=1.0.1 in /usr/local/lib/python3.7/dist-packages (from matplotlib) (1.3.2)\n",
            "Requirement already satisfied: cycler>=0.10 in /usr/local/lib/python3.7/dist-packages (from matplotlib) (0.11.0)\n",
            "Requirement already satisfied: pyparsing!=2.0.4,!=2.1.2,!=2.1.6,>=2.0.1 in /usr/local/lib/python3.7/dist-packages (from matplotlib) (3.0.7)\n"
          ]
        }
      ]
    },
    {
      "cell_type": "markdown",
      "metadata": {
        "id": "UmvEsKCOTIV-"
      },
      "source": [
        "Import the packages and modules:\n"
      ]
    },
    {
      "cell_type": "code",
      "metadata": {
        "id": "hWQEryWrr7qH",
        "outputId": "5bfe509b-f136-4993-f85c-2e553db084e0",
        "colab": {
          "base_uri": "https://localhost:8080/"
        }
      },
      "source": [
        "import math\n",
        "import pandas as pd\n",
        "import numpy as np\n",
        "import statsmodels.api as sm\n",
        "import matplotlib\n",
        "import matplotlib.pyplot as plt\n",
        "%matplotlib inline\n",
        "import seaborn as sns"
      ],
      "execution_count": 2,
      "outputs": [
        {
          "output_type": "stream",
          "name": "stderr",
          "text": [
            "/usr/local/lib/python3.7/dist-packages/statsmodels/tools/_testing.py:19: FutureWarning: pandas.util.testing is deprecated. Use the functions in the public API at pandas.testing instead.\n",
            "  import pandas.util.testing as tm\n"
          ]
        }
      ]
    },
    {
      "cell_type": "markdown",
      "metadata": {
        "id": "qJDFA9XSwdMi"
      },
      "source": [
        "# Load Data\n",
        "\n",
        "Import the data from ProPublica's compas-analysis repository on GitHub and check the first few rows:"
      ]
    },
    {
      "cell_type": "code",
      "metadata": {
        "id": "O5B1icC-sbBg",
        "outputId": "f6b9cd46-c45e-40ff-fc14-49bbf0e00dae",
        "colab": {
          "base_uri": "https://localhost:8080/",
          "height": 392
        }
      },
      "source": [
        "url = \"https://raw.githubusercontent.com/propublica/compas-analysis/master/compas-scores-two-years.csv\"\n",
        "df_compas = pd.read_csv(url)\n",
        "print(\"Shape: \", df_compas.shape)\n",
        "df_compas.head(5)"
      ],
      "execution_count": 3,
      "outputs": [
        {
          "output_type": "stream",
          "name": "stdout",
          "text": [
            "Shape:  (7214, 53)\n"
          ]
        },
        {
          "output_type": "execute_result",
          "data": {
            "text/html": [
              "\n",
              "  <div id=\"df-22175494-dd6d-4122-bc10-c2212ea0a6eb\">\n",
              "    <div class=\"colab-df-container\">\n",
              "      <div>\n",
              "<style scoped>\n",
              "    .dataframe tbody tr th:only-of-type {\n",
              "        vertical-align: middle;\n",
              "    }\n",
              "\n",
              "    .dataframe tbody tr th {\n",
              "        vertical-align: top;\n",
              "    }\n",
              "\n",
              "    .dataframe thead th {\n",
              "        text-align: right;\n",
              "    }\n",
              "</style>\n",
              "<table border=\"1\" class=\"dataframe\">\n",
              "  <thead>\n",
              "    <tr style=\"text-align: right;\">\n",
              "      <th></th>\n",
              "      <th>id</th>\n",
              "      <th>name</th>\n",
              "      <th>first</th>\n",
              "      <th>last</th>\n",
              "      <th>compas_screening_date</th>\n",
              "      <th>sex</th>\n",
              "      <th>dob</th>\n",
              "      <th>age</th>\n",
              "      <th>age_cat</th>\n",
              "      <th>race</th>\n",
              "      <th>juv_fel_count</th>\n",
              "      <th>decile_score</th>\n",
              "      <th>juv_misd_count</th>\n",
              "      <th>juv_other_count</th>\n",
              "      <th>priors_count</th>\n",
              "      <th>days_b_screening_arrest</th>\n",
              "      <th>c_jail_in</th>\n",
              "      <th>c_jail_out</th>\n",
              "      <th>c_case_number</th>\n",
              "      <th>c_offense_date</th>\n",
              "      <th>c_arrest_date</th>\n",
              "      <th>c_days_from_compas</th>\n",
              "      <th>c_charge_degree</th>\n",
              "      <th>c_charge_desc</th>\n",
              "      <th>is_recid</th>\n",
              "      <th>r_case_number</th>\n",
              "      <th>r_charge_degree</th>\n",
              "      <th>r_days_from_arrest</th>\n",
              "      <th>r_offense_date</th>\n",
              "      <th>r_charge_desc</th>\n",
              "      <th>r_jail_in</th>\n",
              "      <th>r_jail_out</th>\n",
              "      <th>violent_recid</th>\n",
              "      <th>is_violent_recid</th>\n",
              "      <th>vr_case_number</th>\n",
              "      <th>vr_charge_degree</th>\n",
              "      <th>vr_offense_date</th>\n",
              "      <th>vr_charge_desc</th>\n",
              "      <th>type_of_assessment</th>\n",
              "      <th>decile_score.1</th>\n",
              "      <th>score_text</th>\n",
              "      <th>screening_date</th>\n",
              "      <th>v_type_of_assessment</th>\n",
              "      <th>v_decile_score</th>\n",
              "      <th>v_score_text</th>\n",
              "      <th>v_screening_date</th>\n",
              "      <th>in_custody</th>\n",
              "      <th>out_custody</th>\n",
              "      <th>priors_count.1</th>\n",
              "      <th>start</th>\n",
              "      <th>end</th>\n",
              "      <th>event</th>\n",
              "      <th>two_year_recid</th>\n",
              "    </tr>\n",
              "  </thead>\n",
              "  <tbody>\n",
              "    <tr>\n",
              "      <th>0</th>\n",
              "      <td>1</td>\n",
              "      <td>miguel hernandez</td>\n",
              "      <td>miguel</td>\n",
              "      <td>hernandez</td>\n",
              "      <td>2013-08-14</td>\n",
              "      <td>Male</td>\n",
              "      <td>1947-04-18</td>\n",
              "      <td>69</td>\n",
              "      <td>Greater than 45</td>\n",
              "      <td>Other</td>\n",
              "      <td>0</td>\n",
              "      <td>1</td>\n",
              "      <td>0</td>\n",
              "      <td>0</td>\n",
              "      <td>0</td>\n",
              "      <td>-1.0</td>\n",
              "      <td>2013-08-13 06:03:42</td>\n",
              "      <td>2013-08-14 05:41:20</td>\n",
              "      <td>13011352CF10A</td>\n",
              "      <td>2013-08-13</td>\n",
              "      <td>NaN</td>\n",
              "      <td>1.0</td>\n",
              "      <td>F</td>\n",
              "      <td>Aggravated Assault w/Firearm</td>\n",
              "      <td>0</td>\n",
              "      <td>NaN</td>\n",
              "      <td>NaN</td>\n",
              "      <td>NaN</td>\n",
              "      <td>NaN</td>\n",
              "      <td>NaN</td>\n",
              "      <td>NaN</td>\n",
              "      <td>NaN</td>\n",
              "      <td>NaN</td>\n",
              "      <td>0</td>\n",
              "      <td>NaN</td>\n",
              "      <td>NaN</td>\n",
              "      <td>NaN</td>\n",
              "      <td>NaN</td>\n",
              "      <td>Risk of Recidivism</td>\n",
              "      <td>1</td>\n",
              "      <td>Low</td>\n",
              "      <td>2013-08-14</td>\n",
              "      <td>Risk of Violence</td>\n",
              "      <td>1</td>\n",
              "      <td>Low</td>\n",
              "      <td>2013-08-14</td>\n",
              "      <td>2014-07-07</td>\n",
              "      <td>2014-07-14</td>\n",
              "      <td>0</td>\n",
              "      <td>0</td>\n",
              "      <td>327</td>\n",
              "      <td>0</td>\n",
              "      <td>0</td>\n",
              "    </tr>\n",
              "    <tr>\n",
              "      <th>1</th>\n",
              "      <td>3</td>\n",
              "      <td>kevon dixon</td>\n",
              "      <td>kevon</td>\n",
              "      <td>dixon</td>\n",
              "      <td>2013-01-27</td>\n",
              "      <td>Male</td>\n",
              "      <td>1982-01-22</td>\n",
              "      <td>34</td>\n",
              "      <td>25 - 45</td>\n",
              "      <td>African-American</td>\n",
              "      <td>0</td>\n",
              "      <td>3</td>\n",
              "      <td>0</td>\n",
              "      <td>0</td>\n",
              "      <td>0</td>\n",
              "      <td>-1.0</td>\n",
              "      <td>2013-01-26 03:45:27</td>\n",
              "      <td>2013-02-05 05:36:53</td>\n",
              "      <td>13001275CF10A</td>\n",
              "      <td>2013-01-26</td>\n",
              "      <td>NaN</td>\n",
              "      <td>1.0</td>\n",
              "      <td>F</td>\n",
              "      <td>Felony Battery w/Prior Convict</td>\n",
              "      <td>1</td>\n",
              "      <td>13009779CF10A</td>\n",
              "      <td>(F3)</td>\n",
              "      <td>NaN</td>\n",
              "      <td>2013-07-05</td>\n",
              "      <td>Felony Battery (Dom Strang)</td>\n",
              "      <td>NaN</td>\n",
              "      <td>NaN</td>\n",
              "      <td>NaN</td>\n",
              "      <td>1</td>\n",
              "      <td>13009779CF10A</td>\n",
              "      <td>(F3)</td>\n",
              "      <td>2013-07-05</td>\n",
              "      <td>Felony Battery (Dom Strang)</td>\n",
              "      <td>Risk of Recidivism</td>\n",
              "      <td>3</td>\n",
              "      <td>Low</td>\n",
              "      <td>2013-01-27</td>\n",
              "      <td>Risk of Violence</td>\n",
              "      <td>1</td>\n",
              "      <td>Low</td>\n",
              "      <td>2013-01-27</td>\n",
              "      <td>2013-01-26</td>\n",
              "      <td>2013-02-05</td>\n",
              "      <td>0</td>\n",
              "      <td>9</td>\n",
              "      <td>159</td>\n",
              "      <td>1</td>\n",
              "      <td>1</td>\n",
              "    </tr>\n",
              "    <tr>\n",
              "      <th>2</th>\n",
              "      <td>4</td>\n",
              "      <td>ed philo</td>\n",
              "      <td>ed</td>\n",
              "      <td>philo</td>\n",
              "      <td>2013-04-14</td>\n",
              "      <td>Male</td>\n",
              "      <td>1991-05-14</td>\n",
              "      <td>24</td>\n",
              "      <td>Less than 25</td>\n",
              "      <td>African-American</td>\n",
              "      <td>0</td>\n",
              "      <td>4</td>\n",
              "      <td>0</td>\n",
              "      <td>1</td>\n",
              "      <td>4</td>\n",
              "      <td>-1.0</td>\n",
              "      <td>2013-04-13 04:58:34</td>\n",
              "      <td>2013-04-14 07:02:04</td>\n",
              "      <td>13005330CF10A</td>\n",
              "      <td>2013-04-13</td>\n",
              "      <td>NaN</td>\n",
              "      <td>1.0</td>\n",
              "      <td>F</td>\n",
              "      <td>Possession of Cocaine</td>\n",
              "      <td>1</td>\n",
              "      <td>13011511MM10A</td>\n",
              "      <td>(M1)</td>\n",
              "      <td>0.0</td>\n",
              "      <td>2013-06-16</td>\n",
              "      <td>Driving Under The Influence</td>\n",
              "      <td>2013-06-16</td>\n",
              "      <td>2013-06-16</td>\n",
              "      <td>NaN</td>\n",
              "      <td>0</td>\n",
              "      <td>NaN</td>\n",
              "      <td>NaN</td>\n",
              "      <td>NaN</td>\n",
              "      <td>NaN</td>\n",
              "      <td>Risk of Recidivism</td>\n",
              "      <td>4</td>\n",
              "      <td>Low</td>\n",
              "      <td>2013-04-14</td>\n",
              "      <td>Risk of Violence</td>\n",
              "      <td>3</td>\n",
              "      <td>Low</td>\n",
              "      <td>2013-04-14</td>\n",
              "      <td>2013-06-16</td>\n",
              "      <td>2013-06-16</td>\n",
              "      <td>4</td>\n",
              "      <td>0</td>\n",
              "      <td>63</td>\n",
              "      <td>0</td>\n",
              "      <td>1</td>\n",
              "    </tr>\n",
              "    <tr>\n",
              "      <th>3</th>\n",
              "      <td>5</td>\n",
              "      <td>marcu brown</td>\n",
              "      <td>marcu</td>\n",
              "      <td>brown</td>\n",
              "      <td>2013-01-13</td>\n",
              "      <td>Male</td>\n",
              "      <td>1993-01-21</td>\n",
              "      <td>23</td>\n",
              "      <td>Less than 25</td>\n",
              "      <td>African-American</td>\n",
              "      <td>0</td>\n",
              "      <td>8</td>\n",
              "      <td>1</td>\n",
              "      <td>0</td>\n",
              "      <td>1</td>\n",
              "      <td>NaN</td>\n",
              "      <td>NaN</td>\n",
              "      <td>NaN</td>\n",
              "      <td>13000570CF10A</td>\n",
              "      <td>2013-01-12</td>\n",
              "      <td>NaN</td>\n",
              "      <td>1.0</td>\n",
              "      <td>F</td>\n",
              "      <td>Possession of Cannabis</td>\n",
              "      <td>0</td>\n",
              "      <td>NaN</td>\n",
              "      <td>NaN</td>\n",
              "      <td>NaN</td>\n",
              "      <td>NaN</td>\n",
              "      <td>NaN</td>\n",
              "      <td>NaN</td>\n",
              "      <td>NaN</td>\n",
              "      <td>NaN</td>\n",
              "      <td>0</td>\n",
              "      <td>NaN</td>\n",
              "      <td>NaN</td>\n",
              "      <td>NaN</td>\n",
              "      <td>NaN</td>\n",
              "      <td>Risk of Recidivism</td>\n",
              "      <td>8</td>\n",
              "      <td>High</td>\n",
              "      <td>2013-01-13</td>\n",
              "      <td>Risk of Violence</td>\n",
              "      <td>6</td>\n",
              "      <td>Medium</td>\n",
              "      <td>2013-01-13</td>\n",
              "      <td>NaN</td>\n",
              "      <td>NaN</td>\n",
              "      <td>1</td>\n",
              "      <td>0</td>\n",
              "      <td>1174</td>\n",
              "      <td>0</td>\n",
              "      <td>0</td>\n",
              "    </tr>\n",
              "    <tr>\n",
              "      <th>4</th>\n",
              "      <td>6</td>\n",
              "      <td>bouthy pierrelouis</td>\n",
              "      <td>bouthy</td>\n",
              "      <td>pierrelouis</td>\n",
              "      <td>2013-03-26</td>\n",
              "      <td>Male</td>\n",
              "      <td>1973-01-22</td>\n",
              "      <td>43</td>\n",
              "      <td>25 - 45</td>\n",
              "      <td>Other</td>\n",
              "      <td>0</td>\n",
              "      <td>1</td>\n",
              "      <td>0</td>\n",
              "      <td>0</td>\n",
              "      <td>2</td>\n",
              "      <td>NaN</td>\n",
              "      <td>NaN</td>\n",
              "      <td>NaN</td>\n",
              "      <td>12014130CF10A</td>\n",
              "      <td>NaN</td>\n",
              "      <td>2013-01-09</td>\n",
              "      <td>76.0</td>\n",
              "      <td>F</td>\n",
              "      <td>arrest case no charge</td>\n",
              "      <td>0</td>\n",
              "      <td>NaN</td>\n",
              "      <td>NaN</td>\n",
              "      <td>NaN</td>\n",
              "      <td>NaN</td>\n",
              "      <td>NaN</td>\n",
              "      <td>NaN</td>\n",
              "      <td>NaN</td>\n",
              "      <td>NaN</td>\n",
              "      <td>0</td>\n",
              "      <td>NaN</td>\n",
              "      <td>NaN</td>\n",
              "      <td>NaN</td>\n",
              "      <td>NaN</td>\n",
              "      <td>Risk of Recidivism</td>\n",
              "      <td>1</td>\n",
              "      <td>Low</td>\n",
              "      <td>2013-03-26</td>\n",
              "      <td>Risk of Violence</td>\n",
              "      <td>1</td>\n",
              "      <td>Low</td>\n",
              "      <td>2013-03-26</td>\n",
              "      <td>NaN</td>\n",
              "      <td>NaN</td>\n",
              "      <td>2</td>\n",
              "      <td>0</td>\n",
              "      <td>1102</td>\n",
              "      <td>0</td>\n",
              "      <td>0</td>\n",
              "    </tr>\n",
              "  </tbody>\n",
              "</table>\n",
              "</div>\n",
              "      <button class=\"colab-df-convert\" onclick=\"convertToInteractive('df-22175494-dd6d-4122-bc10-c2212ea0a6eb')\"\n",
              "              title=\"Convert this dataframe to an interactive table.\"\n",
              "              style=\"display:none;\">\n",
              "        \n",
              "  <svg xmlns=\"http://www.w3.org/2000/svg\" height=\"24px\"viewBox=\"0 0 24 24\"\n",
              "       width=\"24px\">\n",
              "    <path d=\"M0 0h24v24H0V0z\" fill=\"none\"/>\n",
              "    <path d=\"M18.56 5.44l.94 2.06.94-2.06 2.06-.94-2.06-.94-.94-2.06-.94 2.06-2.06.94zm-11 1L8.5 8.5l.94-2.06 2.06-.94-2.06-.94L8.5 2.5l-.94 2.06-2.06.94zm10 10l.94 2.06.94-2.06 2.06-.94-2.06-.94-.94-2.06-.94 2.06-2.06.94z\"/><path d=\"M17.41 7.96l-1.37-1.37c-.4-.4-.92-.59-1.43-.59-.52 0-1.04.2-1.43.59L10.3 9.45l-7.72 7.72c-.78.78-.78 2.05 0 2.83L4 21.41c.39.39.9.59 1.41.59.51 0 1.02-.2 1.41-.59l7.78-7.78 2.81-2.81c.8-.78.8-2.07 0-2.86zM5.41 20L4 18.59l7.72-7.72 1.47 1.35L5.41 20z\"/>\n",
              "  </svg>\n",
              "      </button>\n",
              "      \n",
              "  <style>\n",
              "    .colab-df-container {\n",
              "      display:flex;\n",
              "      flex-wrap:wrap;\n",
              "      gap: 12px;\n",
              "    }\n",
              "\n",
              "    .colab-df-convert {\n",
              "      background-color: #E8F0FE;\n",
              "      border: none;\n",
              "      border-radius: 50%;\n",
              "      cursor: pointer;\n",
              "      display: none;\n",
              "      fill: #1967D2;\n",
              "      height: 32px;\n",
              "      padding: 0 0 0 0;\n",
              "      width: 32px;\n",
              "    }\n",
              "\n",
              "    .colab-df-convert:hover {\n",
              "      background-color: #E2EBFA;\n",
              "      box-shadow: 0px 1px 2px rgba(60, 64, 67, 0.3), 0px 1px 3px 1px rgba(60, 64, 67, 0.15);\n",
              "      fill: #174EA6;\n",
              "    }\n",
              "\n",
              "    [theme=dark] .colab-df-convert {\n",
              "      background-color: #3B4455;\n",
              "      fill: #D2E3FC;\n",
              "    }\n",
              "\n",
              "    [theme=dark] .colab-df-convert:hover {\n",
              "      background-color: #434B5C;\n",
              "      box-shadow: 0px 1px 3px 1px rgba(0, 0, 0, 0.15);\n",
              "      filter: drop-shadow(0px 1px 2px rgba(0, 0, 0, 0.3));\n",
              "      fill: #FFFFFF;\n",
              "    }\n",
              "  </style>\n",
              "\n",
              "      <script>\n",
              "        const buttonEl =\n",
              "          document.querySelector('#df-22175494-dd6d-4122-bc10-c2212ea0a6eb button.colab-df-convert');\n",
              "        buttonEl.style.display =\n",
              "          google.colab.kernel.accessAllowed ? 'block' : 'none';\n",
              "\n",
              "        async function convertToInteractive(key) {\n",
              "          const element = document.querySelector('#df-22175494-dd6d-4122-bc10-c2212ea0a6eb');\n",
              "          const dataTable =\n",
              "            await google.colab.kernel.invokeFunction('convertToInteractive',\n",
              "                                                     [key], {});\n",
              "          if (!dataTable) return;\n",
              "\n",
              "          const docLinkHtml = 'Like what you see? Visit the ' +\n",
              "            '<a target=\"_blank\" href=https://colab.research.google.com/notebooks/data_table.ipynb>data table notebook</a>'\n",
              "            + ' to learn more about interactive tables.';\n",
              "          element.innerHTML = '';\n",
              "          dataTable['output_type'] = 'display_data';\n",
              "          await google.colab.output.renderOutput(dataTable, element);\n",
              "          const docLink = document.createElement('div');\n",
              "          docLink.innerHTML = docLinkHtml;\n",
              "          element.appendChild(docLink);\n",
              "        }\n",
              "      </script>\n",
              "    </div>\n",
              "  </div>\n",
              "  "
            ],
            "text/plain": [
              "   id                name   first  ...   end event two_year_recid\n",
              "0   1    miguel hernandez  miguel  ...   327     0              0\n",
              "1   3         kevon dixon   kevon  ...   159     1              1\n",
              "2   4            ed philo      ed  ...    63     0              1\n",
              "3   5         marcu brown   marcu  ...  1174     0              0\n",
              "4   6  bouthy pierrelouis  bouthy  ...  1102     0              0\n",
              "\n",
              "[5 rows x 53 columns]"
            ]
          },
          "metadata": {},
          "execution_count": 3
        }
      ]
    },
    {
      "cell_type": "markdown",
      "metadata": {
        "id": "JI0slRqXFyXZ"
      },
      "source": [
        "## Notes on the Data\n",
        "\n",
        "Refer to the description of the [data collection methodology](https://www.propublica.org/article/how-we-analyzed-the-compas-recidivism-algorithm). Salient points are highlighted below; see the full description from ProPublica for additional details.\n",
        "\n",
        "> **Goal:** We looked at more than 10,000 criminal defendants in Broward County, Florida, and compared their predicted recidivism rates with the rate that actually occurred over a two-year period.\n",
        ">\n",
        "> **COMPAS tool input (data subjects):** When most defendants are booked in jail, they respond to a COMPAS questionnaire. Their answers are fed into the COMPAS software to generate several scores including predictions of Risk of Recidivism and Risk of Violent Recidivism.\n",
        ">\n",
        "> **How COMPAS input was acquired by ProPublica:** Through a public records request, ProPublica obtained two years worth of COMPAS scores from the Broward County Sheriff’s Office in Florida. We received data for all 18,610 people who were scored in 2013 and 2014.\n",
        ">\n",
        "> **COMPAS tool output:** Each pretrial defendant received at least three COMPAS scores: \"Risk of Recidivism,\" \"Risk of Violence\" and \"Risk of Failure to Appear. [...] COMPAS scores for each defendant ranged from 1 to 10, with ten being the highest risk. Scores 1 to 4 were labeled by COMPAS as \"Low;\" 5 to 7 were labeled “Medium;\" and 8 to 10 were labeled “High.”\n",
        ">\n",
        "> **Data integration (record linkage):** Starting with the database of COMPAS scores, we built a profile of each person’s criminal history, both before and after they were scored. We collected public criminal records from the Broward County Clerk’s Office website through April 1, 2016. On average, defendants in our dataset were not incarcerated for 622.87 days (sd: 329.19). We matched the criminal records to the COMPAS records using a person’s first and last names and date of birth. This is the same technique used in the Broward County COMPAS validation study conducted by researchers at Florida State University in 2010. We downloaded around 80,000 criminal records from the Broward County Clerk’s Office website.\n",
        ">\n",
        "> **What is recidivism?** Northpointe defined recidivism as “a finger-printable arrest involving a charge and a filing for any uniform crime reporting (UCR) code.” We interpreted that to mean a criminal offense that resulted in a jail booking and took place after the crime for which the person was COMPAS scored. [...] For most of our analysis, we defined recidivism as a new arrest within two years."
      ]
    },
    {
      "cell_type": "markdown",
      "metadata": {
        "id": "G0xgPnT11OtO"
      },
      "source": [
        "# Inspect Data\n",
        "\n",
        "For convenience, here is a table of variable definitions:\n",
        "\n",
        "| Variable    | Description |\n",
        "| ----------- | ----------- |\n",
        "| age       |  Age of the defendant   |\n",
        "| age_cat   |  Age category. It can be < 25, 25-45, >45    |\n",
        "| sex   |  Sex of the defendant. It is either \"Male\" or \"Female\"       |\n",
        "| race   |  Race of the defendant. It can be \"African-American\", \"Caucasian\", \"Hispanic\", \"Asian\", or \"Other\"      |\n",
        "| c_charge_degree   |   Charge. Either \"M\" for misdemeanor, \"F\" for felony, or \"O\" (not causing jail time)    |\n",
        "| priors_count   |   Count of prior crimes committed by the defendant      |\n",
        "| days_b_screening_arrest   |  Days between the arrest and COMPAS screening       |\n",
        "| decile_score   |  The COMPAS score estimated by the system. It is between 0-10       |\n",
        "| score_text   |  Decile score. It can be \"Low\" (1-4), \"Medium\" (5-7), or \"High\" (8-10)       |\n",
        "| is_recid   |  Indicates if the defendant recidivated. It can be 0, 1, or -1      |\n",
        "| two_year_recid   |  Indicates if the defendant recidivated within two years of COMPAS assessment      |\n",
        "| c_jail_in   |   Date the defendant was in jail      |\n",
        "| c_jail_out  |   Date when the defendant was released from jail     |\n",
        "\n",
        "\\\n",
        "Plot the distribution of age, race, and sex in the imported data (```df_compas```):"
      ]
    },
    {
      "cell_type": "code",
      "metadata": {
        "id": "C6lQj5HJVuyw",
        "outputId": "def5c088-c020-4f64-9970-e17819f60656",
        "colab": {
          "base_uri": "https://localhost:8080/",
          "height": 953
        }
      },
      "source": [
        "# write code to plot the distribution of age, race, and sex\n",
        "# in this code cell\n",
        "\n",
        "plt.title(\"Age Distribution\")\n",
        "df_compas['age'].hist()\n",
        "plt.xlabel('Age')\n",
        "plt.ylabel('Frequency')\n",
        "plt.show()\n",
        "\n",
        "plt.title(\"Race Distribution\")\n",
        "df_compas['race'].value_counts().plot(kind = 'bar')\n",
        "plt.xlabel('Race')\n",
        "plt.ylabel('Frequency')\n",
        "plt.show()\n",
        "\n",
        "plt.title(\"Sex Distribution\")\n",
        "df_compas['sex'].value_counts().plot(kind = 'bar')\n",
        "plt.xlabel('Sex')\n",
        "plt.ylabel('Frequency')\n",
        "plt.show()\n"
      ],
      "execution_count": 18,
      "outputs": [
        {
          "output_type": "display_data",
          "data": {
            "image/png": "[encoded data removed]",
            "text/plain": [
              "<Figure size 432x288 with 1 Axes>"
            ]
          },
          "metadata": {
            "needs_background": "light"
          }
        },
        {
          "output_type": "display_data",
          "data": {
            "image/png": "[encoded data removed]",
            "text/plain": [
              "<Figure size 432x288 with 1 Axes>"
            ]
          },
          "metadata": {
            "needs_background": "light"
          }
        },
        {
          "output_type": "display_data",
          "data": {
            "image/png": "[encoded data removed]",
            "text/plain": [
              "<Figure size 432x288 with 1 Axes>"
            ]
          },
          "metadata": {
            "needs_background": "light"
          }
        }
      ]
    },
    {
      "cell_type": "markdown",
      "metadata": {
        "id": "q36OxXLfoJxt"
      },
      "source": [
        "# Preprocess Data"
      ]
    },
    {
      "cell_type": "markdown",
      "metadata": {
        "id": "HYL5nnxko0bG"
      },
      "source": [
        "ProPublica implemented a few pre-processing steps. First, they generated a subset of the data with a few variables of interest. Here, we select even fewer variables, keeping only those that we will use in this notebook."
      ]
    },
    {
      "cell_type": "code",
      "metadata": {
        "id": "T1qppbDjoRGJ",
        "outputId": "1a2ea056-fffc-496f-c4a0-0d458ad34aa8",
        "colab": {
          "base_uri": "https://localhost:8080/",
          "height": 224
        }
      },
      "source": [
        "cols_to_keep = [\"id\", \"age\", \"c_charge_degree\", \"race\", \"age_cat\", \"score_text\",\n",
        "                \"sex\", \"priors_count\", \"days_b_screening_arrest\",\n",
        "                \"decile_score\", \"is_recid\", \"two_year_recid\"]\n",
        "\n",
        "df_selected = df_compas[cols_to_keep].copy()\n",
        "\n",
        "print(\"Shape: \", df_selected.shape)\n",
        "df_selected.head()"
      ],
      "execution_count": 19,
      "outputs": [
        {
          "output_type": "stream",
          "name": "stdout",
          "text": [
            "Shape:  (7214, 12)\n"
          ]
        },
        {
          "output_type": "execute_result",
          "data": {
            "text/html": [
              "\n",
              "  <div id=\"df-63f95782-4679-4d4c-970d-c92f28f2e2d5\">\n",
              "    <div class=\"colab-df-container\">\n",
              "      <div>\n",
              "<style scoped>\n",
              "    .dataframe tbody tr th:only-of-type {\n",
              "        vertical-align: middle;\n",
              "    }\n",
              "\n",
              "    .dataframe tbody tr th {\n",
              "        vertical-align: top;\n",
              "    }\n",
              "\n",
              "    .dataframe thead th {\n",
              "        text-align: right;\n",
              "    }\n",
              "</style>\n",
              "<table border=\"1\" class=\"dataframe\">\n",
              "  <thead>\n",
              "    <tr style=\"text-align: right;\">\n",
              "      <th></th>\n",
              "      <th>id</th>\n",
              "      <th>age</th>\n",
              "      <th>c_charge_degree</th>\n",
              "      <th>race</th>\n",
              "      <th>age_cat</th>\n",
              "      <th>score_text</th>\n",
              "      <th>sex</th>\n",
              "      <th>priors_count</th>\n",
              "      <th>days_b_screening_arrest</th>\n",
              "      <th>decile_score</th>\n",
              "      <th>is_recid</th>\n",
              "      <th>two_year_recid</th>\n",
              "    </tr>\n",
              "  </thead>\n",
              "  <tbody>\n",
              "    <tr>\n",
              "      <th>0</th>\n",
              "      <td>1</td>\n",
              "      <td>69</td>\n",
              "      <td>F</td>\n",
              "      <td>Other</td>\n",
              "      <td>Greater than 45</td>\n",
              "      <td>Low</td>\n",
              "      <td>Male</td>\n",
              "      <td>0</td>\n",
              "      <td>-1.0</td>\n",
              "      <td>1</td>\n",
              "      <td>0</td>\n",
              "      <td>0</td>\n",
              "    </tr>\n",
              "    <tr>\n",
              "      <th>1</th>\n",
              "      <td>3</td>\n",
              "      <td>34</td>\n",
              "      <td>F</td>\n",
              "      <td>African-American</td>\n",
              "      <td>25 - 45</td>\n",
              "      <td>Low</td>\n",
              "      <td>Male</td>\n",
              "      <td>0</td>\n",
              "      <td>-1.0</td>\n",
              "      <td>3</td>\n",
              "      <td>1</td>\n",
              "      <td>1</td>\n",
              "    </tr>\n",
              "    <tr>\n",
              "      <th>2</th>\n",
              "      <td>4</td>\n",
              "      <td>24</td>\n",
              "      <td>F</td>\n",
              "      <td>African-American</td>\n",
              "      <td>Less than 25</td>\n",
              "      <td>Low</td>\n",
              "      <td>Male</td>\n",
              "      <td>4</td>\n",
              "      <td>-1.0</td>\n",
              "      <td>4</td>\n",
              "      <td>1</td>\n",
              "      <td>1</td>\n",
              "    </tr>\n",
              "    <tr>\n",
              "      <th>3</th>\n",
              "      <td>5</td>\n",
              "      <td>23</td>\n",
              "      <td>F</td>\n",
              "      <td>African-American</td>\n",
              "      <td>Less than 25</td>\n",
              "      <td>High</td>\n",
              "      <td>Male</td>\n",
              "      <td>1</td>\n",
              "      <td>NaN</td>\n",
              "      <td>8</td>\n",
              "      <td>0</td>\n",
              "      <td>0</td>\n",
              "    </tr>\n",
              "    <tr>\n",
              "      <th>4</th>\n",
              "      <td>6</td>\n",
              "      <td>43</td>\n",
              "      <td>F</td>\n",
              "      <td>Other</td>\n",
              "      <td>25 - 45</td>\n",
              "      <td>Low</td>\n",
              "      <td>Male</td>\n",
              "      <td>2</td>\n",
              "      <td>NaN</td>\n",
              "      <td>1</td>\n",
              "      <td>0</td>\n",
              "      <td>0</td>\n",
              "    </tr>\n",
              "  </tbody>\n",
              "</table>\n",
              "</div>\n",
              "      <button class=\"colab-df-convert\" onclick=\"convertToInteractive('df-63f95782-4679-4d4c-970d-c92f28f2e2d5')\"\n",
              "              title=\"Convert this dataframe to an interactive table.\"\n",
              "              style=\"display:none;\">\n",
              "        \n",
              "  <svg xmlns=\"http://www.w3.org/2000/svg\" height=\"24px\"viewBox=\"0 0 24 24\"\n",
              "       width=\"24px\">\n",
              "    <path d=\"M0 0h24v24H0V0z\" fill=\"none\"/>\n",
              "    <path d=\"M18.56 5.44l.94 2.06.94-2.06 2.06-.94-2.06-.94-.94-2.06-.94 2.06-2.06.94zm-11 1L8.5 8.5l.94-2.06 2.06-.94-2.06-.94L8.5 2.5l-.94 2.06-2.06.94zm10 10l.94 2.06.94-2.06 2.06-.94-2.06-.94-.94-2.06-.94 2.06-2.06.94z\"/><path d=\"M17.41 7.96l-1.37-1.37c-.4-.4-.92-.59-1.43-.59-.52 0-1.04.2-1.43.59L10.3 9.45l-7.72 7.72c-.78.78-.78 2.05 0 2.83L4 21.41c.39.39.9.59 1.41.59.51 0 1.02-.2 1.41-.59l7.78-7.78 2.81-2.81c.8-.78.8-2.07 0-2.86zM5.41 20L4 18.59l7.72-7.72 1.47 1.35L5.41 20z\"/>\n",
              "  </svg>\n",
              "      </button>\n",
              "      \n",
              "  <style>\n",
              "    .colab-df-container {\n",
              "      display:flex;\n",
              "      flex-wrap:wrap;\n",
              "      gap: 12px;\n",
              "    }\n",
              "\n",
              "    .colab-df-convert {\n",
              "      background-color: #E8F0FE;\n",
              "      border: none;\n",
              "      border-radius: 50%;\n",
              "      cursor: pointer;\n",
              "      display: none;\n",
              "      fill: #1967D2;\n",
              "      height: 32px;\n",
              "      padding: 0 0 0 0;\n",
              "      width: 32px;\n",
              "    }\n",
              "\n",
              "    .colab-df-convert:hover {\n",
              "      background-color: #E2EBFA;\n",
              "      box-shadow: 0px 1px 2px rgba(60, 64, 67, 0.3), 0px 1px 3px 1px rgba(60, 64, 67, 0.15);\n",
              "      fill: #174EA6;\n",
              "    }\n",
              "\n",
              "    [theme=dark] .colab-df-convert {\n",
              "      background-color: #3B4455;\n",
              "      fill: #D2E3FC;\n",
              "    }\n",
              "\n",
              "    [theme=dark] .colab-df-convert:hover {\n",
              "      background-color: #434B5C;\n",
              "      box-shadow: 0px 1px 3px 1px rgba(0, 0, 0, 0.15);\n",
              "      filter: drop-shadow(0px 1px 2px rgba(0, 0, 0, 0.3));\n",
              "      fill: #FFFFFF;\n",
              "    }\n",
              "  </style>\n",
              "\n",
              "      <script>\n",
              "        const buttonEl =\n",
              "          document.querySelector('#df-63f95782-4679-4d4c-970d-c92f28f2e2d5 button.colab-df-convert');\n",
              "        buttonEl.style.display =\n",
              "          google.colab.kernel.accessAllowed ? 'block' : 'none';\n",
              "\n",
              "        async function convertToInteractive(key) {\n",
              "          const element = document.querySelector('#df-63f95782-4679-4d4c-970d-c92f28f2e2d5');\n",
              "          const dataTable =\n",
              "            await google.colab.kernel.invokeFunction('convertToInteractive',\n",
              "                                                     [key], {});\n",
              "          if (!dataTable) return;\n",
              "\n",
              "          const docLinkHtml = 'Like what you see? Visit the ' +\n",
              "            '<a target=\"_blank\" href=https://colab.research.google.com/notebooks/data_table.ipynb>data table notebook</a>'\n",
              "            + ' to learn more about interactive tables.';\n",
              "          element.innerHTML = '';\n",
              "          dataTable['output_type'] = 'display_data';\n",
              "          await google.colab.output.renderOutput(dataTable, element);\n",
              "          const docLink = document.createElement('div');\n",
              "          docLink.innerHTML = docLinkHtml;\n",
              "          element.appendChild(docLink);\n",
              "        }\n",
              "      </script>\n",
              "    </div>\n",
              "  </div>\n",
              "  "
            ],
            "text/plain": [
              "   id  age c_charge_degree  ... decile_score is_recid two_year_recid\n",
              "0   1   69               F  ...            1        0              0\n",
              "1   3   34               F  ...            3        1              1\n",
              "2   4   24               F  ...            4        1              1\n",
              "3   5   23               F  ...            8        0              0\n",
              "4   6   43               F  ...            1        0              0\n",
              "\n",
              "[5 rows x 12 columns]"
            ]
          },
          "metadata": {},
          "execution_count": 19
        }
      ]
    },
    {
      "cell_type": "markdown",
      "metadata": {
        "id": "ghZE7FZUpBsQ"
      },
      "source": [
        "Take a moment to get a feel for the variables and structure of the data. ProPublica filtered the above data by removing rows where:\n",
        "\n",
        "1. The COMPAS score is missing.\n",
        "1. The charge date of the defendant's COMPAS-scored crime was not within 30 days from the date of arrest. ProPublica assumed that the offense may not be correct in these cases.\n",
        "2. The recividist flag is \"-1\". In such cases, ProPublica could not find a COMPAS record at all.\n",
        "3. The charge is \"O\". These are ordinary traffic offenses and do not result in jail time.\n",
        "\n",
        "We implement these conditions here:"
      ]
    },
    {
      "cell_type": "code",
      "metadata": {
        "id": "3muereQrap8u"
      },
      "source": [
        "df_analysis = df_selected[\n",
        "    (df_selected.score_text != \"N/A\") &\n",
        "    (df_selected.days_b_screening_arrest <= 30) &\n",
        "    (df_selected.days_b_screening_arrest >= -30) &\n",
        "    (df_selected.is_recid != -1) &\n",
        "    (df_selected.c_charge_degree != \"O\")\n",
        "    ].copy()"
      ],
      "execution_count": 20,
      "outputs": []
    },
    {
      "cell_type": "markdown",
      "metadata": {
        "id": "wCNlGWB_sBda"
      },
      "source": [
        "Note that ProPublica only included people who had recidivated within two years or had at least two years outside a correctional facility. This pre-processing step is \"baked in\" to the data that we imported from GitHub in this notebook.\n",
        "\n",
        "Check the dimensions (i.e. the number of variables and observations) of the imported (```df_compas```) and preprocessed (```df_analysis```) data:"
      ]
    },
    {
      "cell_type": "code",
      "metadata": {
        "id": "JJ_MkWKxt1YJ",
        "outputId": "62df06c1-2a65-4283-d9ce-e4191bdf9e62",
        "colab": {
          "base_uri": "https://localhost:8080/"
        }
      },
      "source": [
        "# write code to check the number of variables and observations in df_compas\n",
        "# and df_analysis here\n",
        "\n",
        "print('Imported Data', df_compas.shape)\n",
        "print('Data after selecting variables', df_selected.shape)\n",
        "print('Data after filtering observations', df_analysis.shape)"
      ],
      "execution_count": 22,
      "outputs": [
        {
          "output_type": "stream",
          "name": "stdout",
          "text": [
            "Imported Data (7214, 53)\n",
            "Data after selecting variables (7214, 12)\n",
            "Data after filtering observations (6172, 12)\n"
          ]
        }
      ]
    },
    {
      "cell_type": "markdown",
      "metadata": {
        "id": "0juptQDv7pDG"
      },
      "source": [
        "Take the additional step of making sure that the decile score (discussed below) is numeric:\n"
      ]
    },
    {
      "cell_type": "code",
      "metadata": {
        "id": "xjg2B1s47tJr"
      },
      "source": [
        "df_analysis[\"decile_score\"] = pd.to_numeric(df_analysis[\"decile_score\"])"
      ],
      "execution_count": 23,
      "outputs": []
    },
    {
      "cell_type": "markdown",
      "metadata": {
        "id": "TS1ZlkXTwTrU"
      },
      "source": [
        "# Inspect Data Again"
      ]
    },
    {
      "cell_type": "markdown",
      "metadata": {
        "id": "5bgG7Odrk1Wf"
      },
      "source": [
        "Re-inspect salient variables in the data after the preprocessing steps. Plot the distribution of age, race, and sex in the preprocessed data (```df_analysis```) and compare these distributions to the imported data (```df_compas```):"
      ]
    },
    {
      "cell_type": "code",
      "metadata": {
        "id": "rf4Jdy6QwRAS",
        "outputId": "5999426a-3369-4269-c9ee-74d7d5dfb804",
        "colab": {
          "base_uri": "https://localhost:8080/",
          "height": 953
        }
      },
      "source": [
        "# write code to plot the distribution of age, race, and sex in \n",
        "# the df_analysis data\n",
        "\n",
        "plt.title(\"Age Distribution\")\n",
        "plt.hist(df_compas['age'], alpha = 0.5, label = 'imported')\n",
        "plt.hist(df_analysis['age'], alpha = 0.5, label = 'filtered')\n",
        "plt.legend(loc = 'upper right')\n",
        "plt.xlabel('Age')\n",
        "plt.ylabel('Frequency')\n",
        "plt.show()\n",
        "\n",
        "plt.title(\"Race Distribution\")\n",
        "df_compas['race'].value_counts().plot(kind = 'bar', alpha = 0.5)\n",
        "df_analysis['race'].value_counts().plot(kind = 'bar', alpha = 0.5, color = 'orange')\n",
        "plt.xlabel('Race')\n",
        "plt.ylabel('Frequency')\n",
        "plt.show()\n",
        "\n",
        "plt.title(\"Sex Distribution\")\n",
        "df_compas['sex'].value_counts().plot(kind = 'bar', alpha = 0.5)\n",
        "df_analysis['sex'].value_counts().plot(kind = 'bar', alpha = 0.5, color = 'orange')\n",
        "plt.xlabel('Sex')\n",
        "plt.ylabel('Frequency')\n",
        "plt.show()"
      ],
      "execution_count": 24,
      "outputs": [
        {
          "output_type": "display_data",
          "data": {
            "image/png": "[encoded data removed]",
            "text/plain": [
              "<Figure size 432x288 with 1 Axes>"
            ]
          },
          "metadata": {
            "needs_background": "light"
          }
        },
        {
          "output_type": "display_data",
          "data": {
            "image/png": "[encoded data removed]",
            "text/plain": [
              "<Figure size 432x288 with 1 Axes>"
            ]
          },
          "metadata": {
            "needs_background": "light"
          }
        },
        {
          "output_type": "display_data",
          "data": {
            "image/png": "[encoded data removed]",
            "text/plain": [
              "<Figure size 432x288 with 1 Axes>"
            ]
          },
          "metadata": {
            "needs_background": "light"
          }
        }
      ]
    },
    {
      "cell_type": "markdown",
      "metadata": {
        "id": "RnlEcgYrwIkw"
      },
      "source": [
        "Observe that we are iterating through the data analysis: import, inspect & profile, preprocess, and profile again. Generate a crosstab summarizing the number of observations by race and sex:"
      ]
    },
    {
      "cell_type": "code",
      "metadata": {
        "id": "sQnZbZDF162n",
        "outputId": "321713de-a2b1-4b9a-b753-36391d546c99",
        "colab": {
          "base_uri": "https://localhost:8080/",
          "height": 175
        }
      },
      "source": [
        "# write code to generate a crosstab summarizing the number of observations by\n",
        "# race and sex (i.e. a pivot table) in this code cell\n",
        "\n",
        "df_analysis.pivot_table(values = ['id'], columns = ['race'], index = 'sex', aggfunc = lambda x: len(x))"
      ],
      "execution_count": 25,
      "outputs": [
        {
          "output_type": "execute_result",
          "data": {
            "text/html": [
              "\n",
              "  <div id=\"df-d84a8aa0-5508-44d0-93d5-319625d68993\">\n",
              "    <div class=\"colab-df-container\">\n",
              "      <div>\n",
              "<style scoped>\n",
              "    .dataframe tbody tr th:only-of-type {\n",
              "        vertical-align: middle;\n",
              "    }\n",
              "\n",
              "    .dataframe tbody tr th {\n",
              "        vertical-align: top;\n",
              "    }\n",
              "\n",
              "    .dataframe thead tr th {\n",
              "        text-align: left;\n",
              "    }\n",
              "\n",
              "    .dataframe thead tr:last-of-type th {\n",
              "        text-align: right;\n",
              "    }\n",
              "</style>\n",
              "<table border=\"1\" class=\"dataframe\">\n",
              "  <thead>\n",
              "    <tr>\n",
              "      <th></th>\n",
              "      <th colspan=\"6\" halign=\"left\">id</th>\n",
              "    </tr>\n",
              "    <tr>\n",
              "      <th>race</th>\n",
              "      <th>African-American</th>\n",
              "      <th>Asian</th>\n",
              "      <th>Caucasian</th>\n",
              "      <th>Hispanic</th>\n",
              "      <th>Native American</th>\n",
              "      <th>Other</th>\n",
              "    </tr>\n",
              "    <tr>\n",
              "      <th>sex</th>\n",
              "      <th></th>\n",
              "      <th></th>\n",
              "      <th></th>\n",
              "      <th></th>\n",
              "      <th></th>\n",
              "      <th></th>\n",
              "    </tr>\n",
              "  </thead>\n",
              "  <tbody>\n",
              "    <tr>\n",
              "      <th>Female</th>\n",
              "      <td>549</td>\n",
              "      <td>2</td>\n",
              "      <td>482</td>\n",
              "      <td>82</td>\n",
              "      <td>2</td>\n",
              "      <td>58</td>\n",
              "    </tr>\n",
              "    <tr>\n",
              "      <th>Male</th>\n",
              "      <td>2626</td>\n",
              "      <td>29</td>\n",
              "      <td>1621</td>\n",
              "      <td>427</td>\n",
              "      <td>9</td>\n",
              "      <td>285</td>\n",
              "    </tr>\n",
              "  </tbody>\n",
              "</table>\n",
              "</div>\n",
              "      <button class=\"colab-df-convert\" onclick=\"convertToInteractive('df-d84a8aa0-5508-44d0-93d5-319625d68993')\"\n",
              "              title=\"Convert this dataframe to an interactive table.\"\n",
              "              style=\"display:none;\">\n",
              "        \n",
              "  <svg xmlns=\"http://www.w3.org/2000/svg\" height=\"24px\"viewBox=\"0 0 24 24\"\n",
              "       width=\"24px\">\n",
              "    <path d=\"M0 0h24v24H0V0z\" fill=\"none\"/>\n",
              "    <path d=\"M18.56 5.44l.94 2.06.94-2.06 2.06-.94-2.06-.94-.94-2.06-.94 2.06-2.06.94zm-11 1L8.5 8.5l.94-2.06 2.06-.94-2.06-.94L8.5 2.5l-.94 2.06-2.06.94zm10 10l.94 2.06.94-2.06 2.06-.94-2.06-.94-.94-2.06-.94 2.06-2.06.94z\"/><path d=\"M17.41 7.96l-1.37-1.37c-.4-.4-.92-.59-1.43-.59-.52 0-1.04.2-1.43.59L10.3 9.45l-7.72 7.72c-.78.78-.78 2.05 0 2.83L4 21.41c.39.39.9.59 1.41.59.51 0 1.02-.2 1.41-.59l7.78-7.78 2.81-2.81c.8-.78.8-2.07 0-2.86zM5.41 20L4 18.59l7.72-7.72 1.47 1.35L5.41 20z\"/>\n",
              "  </svg>\n",
              "      </button>\n",
              "      \n",
              "  <style>\n",
              "    .colab-df-container {\n",
              "      display:flex;\n",
              "      flex-wrap:wrap;\n",
              "      gap: 12px;\n",
              "    }\n",
              "\n",
              "    .colab-df-convert {\n",
              "      background-color: #E8F0FE;\n",
              "      border: none;\n",
              "      border-radius: 50%;\n",
              "      cursor: pointer;\n",
              "      display: none;\n",
              "      fill: #1967D2;\n",
              "      height: 32px;\n",
              "      padding: 0 0 0 0;\n",
              "      width: 32px;\n",
              "    }\n",
              "\n",
              "    .colab-df-convert:hover {\n",
              "      background-color: #E2EBFA;\n",
              "      box-shadow: 0px 1px 2px rgba(60, 64, 67, 0.3), 0px 1px 3px 1px rgba(60, 64, 67, 0.15);\n",
              "      fill: #174EA6;\n",
              "    }\n",
              "\n",
              "    [theme=dark] .colab-df-convert {\n",
              "      background-color: #3B4455;\n",
              "      fill: #D2E3FC;\n",
              "    }\n",
              "\n",
              "    [theme=dark] .colab-df-convert:hover {\n",
              "      background-color: #434B5C;\n",
              "      box-shadow: 0px 1px 3px 1px rgba(0, 0, 0, 0.15);\n",
              "      filter: drop-shadow(0px 1px 2px rgba(0, 0, 0, 0.3));\n",
              "      fill: #FFFFFF;\n",
              "    }\n",
              "  </style>\n",
              "\n",
              "      <script>\n",
              "        const buttonEl =\n",
              "          document.querySelector('#df-d84a8aa0-5508-44d0-93d5-319625d68993 button.colab-df-convert');\n",
              "        buttonEl.style.display =\n",
              "          google.colab.kernel.accessAllowed ? 'block' : 'none';\n",
              "\n",
              "        async function convertToInteractive(key) {\n",
              "          const element = document.querySelector('#df-d84a8aa0-5508-44d0-93d5-319625d68993');\n",
              "          const dataTable =\n",
              "            await google.colab.kernel.invokeFunction('convertToInteractive',\n",
              "                                                     [key], {});\n",
              "          if (!dataTable) return;\n",
              "\n",
              "          const docLinkHtml = 'Like what you see? Visit the ' +\n",
              "            '<a target=\"_blank\" href=https://colab.research.google.com/notebooks/data_table.ipynb>data table notebook</a>'\n",
              "            + ' to learn more about interactive tables.';\n",
              "          element.innerHTML = '';\n",
              "          dataTable['output_type'] = 'display_data';\n",
              "          await google.colab.output.renderOutput(dataTable, element);\n",
              "          const docLink = document.createElement('div');\n",
              "          docLink.innerHTML = docLinkHtml;\n",
              "          element.appendChild(docLink);\n",
              "        }\n",
              "      </script>\n",
              "    </div>\n",
              "  </div>\n",
              "  "
            ],
            "text/plain": [
              "                     id                                               \n",
              "race   African-American Asian Caucasian Hispanic Native American Other\n",
              "sex                                                                   \n",
              "Female              549     2       482       82               2    58\n",
              "Male               2626    29      1621      427               9   285"
            ]
          },
          "metadata": {},
          "execution_count": 25
        }
      ]
    },
    {
      "cell_type": "markdown",
      "metadata": {
        "id": "gxkyKFMP3Oxa"
      },
      "source": [
        "# Exploratory Analysis"
      ]
    },
    {
      "cell_type": "markdown",
      "metadata": {
        "id": "h9a0-JeX3Wmd"
      },
      "source": [
        "Let's turn our focus to the primary variable of interest: the COMPAS recidivism score. In this exploratory analysis, we are interested in the variable named \"decile_score\".\n",
        "\n",
        "The ProPublica analysis notes: \"Judges are often presented with two sets of scores from the COMPAS system: one that classifies people into high, medium or low risk, and a corresponding decile score.\"\n",
        "\n",
        "Plot the distribution of decile score for males and for females. To what extent do these distributions differ?"
      ]
    },
    {
      "cell_type": "code",
      "metadata": {
        "id": "5ntoFh0w-1F3",
        "outputId": "432e219e-31f6-4eb9-f508-3478025fd666",
        "colab": {
          "base_uri": "https://localhost:8080/",
          "height": 404
        }
      },
      "source": [
        "# plot score decile by sex\n",
        "df_female = df_analysis[(df_analysis.sex == \"Female\")].copy()\n",
        "df_male   = df_analysis[(df_analysis.sex == \"Male\")].copy()\n",
        "\n",
        "fig = plt.figure(figsize = (12, 6))\n",
        "fig.add_subplot(121)\n",
        "\n",
        "plt.hist(df_female[\"decile_score\"], ec = \"white\",\n",
        "         weights = np.ones(len(df_female[\"decile_score\"])) /\n",
        "         len(df_female[\"decile_score\"]))\n",
        "plt.xlabel(\"Decile Score (0-10)\")\n",
        "plt.ylabel(\"Percent of Cases\")\n",
        "plt.title(\"Female Defendant's Decile Scores\")\n",
        "plt.ylim([0, 0.25])\n",
        "\n",
        "fig.add_subplot(122)\n",
        "plt.hist(df_male[\"decile_score\"], ec = \"white\",\n",
        "         weights = np.ones(len(df_male[\"decile_score\"])) /\n",
        "         len(df_male[\"decile_score\"]))\n",
        "plt.xlabel(\"Decile Score (0-10)\")\n",
        "plt.ylabel(\"Percent of Cases\")\n",
        "plt.title(\"Male Defendant's Decile Scores\")\n",
        "plt.ylim([0, 0.25])\n",
        "\n",
        "plt.show()"
      ],
      "execution_count": 26,
      "outputs": [
        {
          "output_type": "display_data",
          "data": {
            "image/png": "[encoded data removed]",
            "text/plain": [
              "<Figure size 864x432 with 2 Axes>"
            ]
          },
          "metadata": {
            "needs_background": "light"
          }
        }
      ]
    },
    {
      "cell_type": "markdown",
      "metadata": {
        "id": "RDtwnIWk4O_P"
      },
      "source": [
        "What about race? Repeat the above plots for Black defendants and White defendants:"
      ]
    },
    {
      "cell_type": "code",
      "metadata": {
        "id": "2QRK2jsM3Vvn",
        "outputId": "e43bf637-ca72-44f7-e3b1-b1ec73740bda",
        "colab": {
          "base_uri": "https://localhost:8080/",
          "height": 404
        }
      },
      "source": [
        "# write code to plot \"decile_score\" for White and Black defendants\n",
        "# in this code cell\n",
        "\n",
        "# plot score decile by race\n",
        "df_black = df_analysis[(df_analysis.race == \"African-American\")].copy()\n",
        "df_white   = df_analysis[(df_analysis.race == \"Caucasian\")].copy()\n",
        "\n",
        "fig = plt.figure(figsize = (12, 6))\n",
        "fig.add_subplot(121)\n",
        "\n",
        "plt.hist(df_black[\"decile_score\"], ec = \"white\",\n",
        "         weights = np.ones(len(df_black[\"decile_score\"])) /\n",
        "         len(df_black[\"decile_score\"]))\n",
        "plt.xlabel(\"Decile Score (0-10)\")\n",
        "plt.ylabel(\"Percent of Cases\")\n",
        "plt.title(\"Black Defendant's Decile Scores\")\n",
        "plt.ylim([0, 0.30])\n",
        "\n",
        "fig.add_subplot(122)\n",
        "plt.hist(df_white[\"decile_score\"], ec = \"white\",\n",
        "         weights = np.ones(len(df_white[\"decile_score\"])) /\n",
        "         len(df_white[\"decile_score\"]))\n",
        "plt.xlabel(\"Decile Score (0-10)\")\n",
        "plt.ylabel(\"Percent of Cases\")\n",
        "plt.title(\"White Defendant's Decile Scores\")\n",
        "plt.ylim([0, 0.30])\n",
        "\n",
        "plt.show()\n"
      ],
      "execution_count": 27,
      "outputs": [
        {
          "output_type": "display_data",
          "data": {
            "image/png": "[encoded data removed]",
            "text/plain": [
              "<Figure size 864x432 with 2 Axes>"
            ]
          },
          "metadata": {
            "needs_background": "light"
          }
        }
      ]
    },
    {
      "cell_type": "markdown",
      "metadata": {
        "id": "2v4KvrqCNaqi"
      },
      "source": [
        "**Summarize the difference between the distribution of decile scores for Black defendants and White defendants in this text cell (three sentences maximum):**\n",
        "\n",
        "The distribution of scores for Black defendants is approximately uniform. However, the same score for White defendants is clearly left skew, indicating a favoring of lower scores for these White defendants."
      ]
    },
    {
      "cell_type": "markdown",
      "metadata": {
        "id": "V1o9A7VlDWuo"
      },
      "source": [
        "Plot the distribution of COMPAS-assigned \"risk labels\" (the variable is named \"score_text\") for Black defendants and White defendants:"
      ]
    },
    {
      "cell_type": "code",
      "metadata": {
        "id": "P3tnCwrbDvIe",
        "outputId": "4628d54d-bec0-4e00-b42f-4fcbbdff5977",
        "colab": {
          "base_uri": "https://localhost:8080/",
          "height": 434
        }
      },
      "source": [
        "# plot the distribution of \"score_text\" for White defendants and \n",
        "# Black defendants in this code cell\n",
        "\n",
        "fig = plt.figure(figsize = (12,6))\n",
        "\n",
        "fig.add_subplot(121)\n",
        "(df_black['score_text'].value_counts().reindex(['Low', 'Medium', 'High']) / len(df_black)).plot(kind = 'bar')\n",
        "plt.xlabel(\"Score Label\")\n",
        "plt.ylabel(\"Percent of Cases\")\n",
        "plt.title(\"Score Split for Black Defendant\")\n",
        "plt.ylim([0, 0.7])\n",
        "\n",
        "fig.add_subplot(122)\n",
        "(df_white['score_text'].value_counts().reindex(['Low', 'Medium', 'High']) / len(df_white)).plot(kind = 'bar')\n",
        "plt.xlabel(\"Score Label\")\n",
        "plt.ylabel(\"Percent of Cases\")\n",
        "plt.title(\"Score Split for White Defendant\")\n",
        "plt.ylim([0, 0.7])\n",
        "\n",
        "plt.show()"
      ],
      "execution_count": 28,
      "outputs": [
        {
          "output_type": "display_data",
          "data": {
            "image/png": "[encoded data removed]",
            "text/plain": [
              "<Figure size 864x432 with 2 Axes>"
            ]
          },
          "metadata": {
            "needs_background": "light"
          }
        }
      ]
    },
    {
      "cell_type": "markdown",
      "metadata": {
        "id": "zfFXAqvNFFXi"
      },
      "source": [
        "# Bias in COMPAS"
      ]
    },
    {
      "cell_type": "markdown",
      "metadata": {
        "id": "7lcvC8rNFbYc"
      },
      "source": [
        "ProPublica focused on racial bias in the COMPAS algorithm. In general terms, ProPublica analyzed (i) how the *risk scores* vary by race and (ii) the extent to which the *risk labels* assigned to defendants matches up with their observed recidivism and how this varies by race. We will (approximately) reproduce this analysis below."
      ]
    },
    {
      "cell_type": "markdown",
      "metadata": {
        "id": "eOCIMREOQ7I0"
      },
      "source": [
        "## Preprocess Data for Logistic Regression\n",
        "\n",
        "ProPublica used a logistic regression model to analyze variation in the risk scores by race. We will prepare the data by one-hot encoding the categorical variables."
      ]
    },
    {
      "cell_type": "code",
      "metadata": {
        "id": "VqJLl5RfFIXR",
        "outputId": "ae62a379-845e-4e7f-f0bf-7d796592a473",
        "colab": {
          "base_uri": "https://localhost:8080/"
        }
      },
      "source": [
        "print(df_analysis.dtypes)"
      ],
      "execution_count": 29,
      "outputs": [
        {
          "output_type": "stream",
          "name": "stdout",
          "text": [
            "id                           int64\n",
            "age                          int64\n",
            "c_charge_degree             object\n",
            "race                        object\n",
            "age_cat                     object\n",
            "score_text                  object\n",
            "sex                         object\n",
            "priors_count                 int64\n",
            "days_b_screening_arrest    float64\n",
            "decile_score                 int64\n",
            "is_recid                     int64\n",
            "two_year_recid               int64\n",
            "dtype: object\n"
          ]
        }
      ]
    },
    {
      "cell_type": "code",
      "metadata": {
        "id": "1VywniiqFugA",
        "outputId": "5d6cf586-485c-4a36-c119-e68a51e9a28c",
        "colab": {
          "base_uri": "https://localhost:8080/"
        }
      },
      "source": [
        "for i, col_type in enumerate(df_analysis.dtypes):\n",
        "    if col_type == \"object\":\n",
        "        print(\"\\nVariable {} takes the values: {}\".format(\n",
        "            df_analysis.columns[i],\n",
        "            df_analysis[df_analysis.columns[i]].unique()))"
      ],
      "execution_count": 30,
      "outputs": [
        {
          "output_type": "stream",
          "name": "stdout",
          "text": [
            "\n",
            "Variable c_charge_degree takes the values: ['F' 'M']\n",
            "\n",
            "Variable race takes the values: ['Other' 'African-American' 'Caucasian' 'Hispanic' 'Asian'\n",
            " 'Native American']\n",
            "\n",
            "Variable age_cat takes the values: ['Greater than 45' '25 - 45' 'Less than 25']\n",
            "\n",
            "Variable score_text takes the values: ['Low' 'Medium' 'High']\n",
            "\n",
            "Variable sex takes the values: ['Male' 'Female']\n"
          ]
        }
      ]
    },
    {
      "cell_type": "code",
      "metadata": {
        "id": "bbPi5iRYHZ64"
      },
      "source": [
        "df_logistic = df_analysis.copy()\n",
        "\n",
        "# one-hot encoding\n",
        "df_logistic = pd.get_dummies(df_logistic,\n",
        "                             columns = [\"c_charge_degree\", \"race\",\n",
        "                                        \"age_cat\", \"sex\"])\n",
        "\n",
        "# mutate score_text to binary variable where low = {low}\n",
        "# and high = {medium, high}\n",
        "df_logistic[\"score_binary\"] = np.where(df_logistic[\"score_text\"] != \"Low\",\n",
        "                                       \"High\", \"Low\")\n",
        "df_logistic[\"score_binary\"] = df_logistic[\"score_binary\"].astype('category')\n",
        "\n",
        "# rename the columns to be more instructive and consistent with statsmodel\n",
        "# requirements for variable names\n",
        "df_logistic.columns = df_logistic.columns.str.replace(' ', '_')\n",
        "df_logistic.columns = df_logistic.columns.str.replace('-', '_')\n",
        "\n",
        "renamed_cols = {'age_cat_25___45':'age_cat_25_to_45',\n",
        "                'c_charge_degree_F':'Felony',\n",
        "                'c_charge_degree_M':'Misdemeanor'}\n",
        "\n",
        "df_logistic = df_logistic.rename(columns = renamed_cols)\n",
        "\n"
      ],
      "execution_count": 31,
      "outputs": []
    },
    {
      "cell_type": "markdown",
      "metadata": {
        "id": "3BaOl-bMfU3q"
      },
      "source": [
        "Check that recoding resulted in the desired data structure:"
      ]
    },
    {
      "cell_type": "code",
      "metadata": {
        "id": "7rAihNgrP3f7",
        "outputId": "bbc6b798-5481-4138-a732-f38680d4f218",
        "colab": {
          "base_uri": "https://localhost:8080/",
          "height": 270
        }
      },
      "source": [
        "df_logistic.head()"
      ],
      "execution_count": 32,
      "outputs": [
        {
          "output_type": "execute_result",
          "data": {
            "text/html": [
              "\n",
              "  <div id=\"df-5e8e73af-6f33-4e68-958c-0f9eb60e6744\">\n",
              "    <div class=\"colab-df-container\">\n",
              "      <div>\n",
              "<style scoped>\n",
              "    .dataframe tbody tr th:only-of-type {\n",
              "        vertical-align: middle;\n",
              "    }\n",
              "\n",
              "    .dataframe tbody tr th {\n",
              "        vertical-align: top;\n",
              "    }\n",
              "\n",
              "    .dataframe thead th {\n",
              "        text-align: right;\n",
              "    }\n",
              "</style>\n",
              "<table border=\"1\" class=\"dataframe\">\n",
              "  <thead>\n",
              "    <tr style=\"text-align: right;\">\n",
              "      <th></th>\n",
              "      <th>id</th>\n",
              "      <th>age</th>\n",
              "      <th>score_text</th>\n",
              "      <th>priors_count</th>\n",
              "      <th>days_b_screening_arrest</th>\n",
              "      <th>decile_score</th>\n",
              "      <th>is_recid</th>\n",
              "      <th>two_year_recid</th>\n",
              "      <th>Felony</th>\n",
              "      <th>Misdemeanor</th>\n",
              "      <th>race_African_American</th>\n",
              "      <th>race_Asian</th>\n",
              "      <th>race_Caucasian</th>\n",
              "      <th>race_Hispanic</th>\n",
              "      <th>race_Native_American</th>\n",
              "      <th>race_Other</th>\n",
              "      <th>age_cat_25_to_45</th>\n",
              "      <th>age_cat_Greater_than_45</th>\n",
              "      <th>age_cat_Less_than_25</th>\n",
              "      <th>sex_Female</th>\n",
              "      <th>sex_Male</th>\n",
              "      <th>score_binary</th>\n",
              "    </tr>\n",
              "  </thead>\n",
              "  <tbody>\n",
              "    <tr>\n",
              "      <th>0</th>\n",
              "      <td>1</td>\n",
              "      <td>69</td>\n",
              "      <td>Low</td>\n",
              "      <td>0</td>\n",
              "      <td>-1.0</td>\n",
              "      <td>1</td>\n",
              "      <td>0</td>\n",
              "      <td>0</td>\n",
              "      <td>1</td>\n",
              "      <td>0</td>\n",
              "      <td>0</td>\n",
              "      <td>0</td>\n",
              "      <td>0</td>\n",
              "      <td>0</td>\n",
              "      <td>0</td>\n",
              "      <td>1</td>\n",
              "      <td>0</td>\n",
              "      <td>1</td>\n",
              "      <td>0</td>\n",
              "      <td>0</td>\n",
              "      <td>1</td>\n",
              "      <td>Low</td>\n",
              "    </tr>\n",
              "    <tr>\n",
              "      <th>1</th>\n",
              "      <td>3</td>\n",
              "      <td>34</td>\n",
              "      <td>Low</td>\n",
              "      <td>0</td>\n",
              "      <td>-1.0</td>\n",
              "      <td>3</td>\n",
              "      <td>1</td>\n",
              "      <td>1</td>\n",
              "      <td>1</td>\n",
              "      <td>0</td>\n",
              "      <td>1</td>\n",
              "      <td>0</td>\n",
              "      <td>0</td>\n",
              "      <td>0</td>\n",
              "      <td>0</td>\n",
              "      <td>0</td>\n",
              "      <td>1</td>\n",
              "      <td>0</td>\n",
              "      <td>0</td>\n",
              "      <td>0</td>\n",
              "      <td>1</td>\n",
              "      <td>Low</td>\n",
              "    </tr>\n",
              "    <tr>\n",
              "      <th>2</th>\n",
              "      <td>4</td>\n",
              "      <td>24</td>\n",
              "      <td>Low</td>\n",
              "      <td>4</td>\n",
              "      <td>-1.0</td>\n",
              "      <td>4</td>\n",
              "      <td>1</td>\n",
              "      <td>1</td>\n",
              "      <td>1</td>\n",
              "      <td>0</td>\n",
              "      <td>1</td>\n",
              "      <td>0</td>\n",
              "      <td>0</td>\n",
              "      <td>0</td>\n",
              "      <td>0</td>\n",
              "      <td>0</td>\n",
              "      <td>0</td>\n",
              "      <td>0</td>\n",
              "      <td>1</td>\n",
              "      <td>0</td>\n",
              "      <td>1</td>\n",
              "      <td>Low</td>\n",
              "    </tr>\n",
              "    <tr>\n",
              "      <th>5</th>\n",
              "      <td>7</td>\n",
              "      <td>44</td>\n",
              "      <td>Low</td>\n",
              "      <td>0</td>\n",
              "      <td>0.0</td>\n",
              "      <td>1</td>\n",
              "      <td>0</td>\n",
              "      <td>0</td>\n",
              "      <td>0</td>\n",
              "      <td>1</td>\n",
              "      <td>0</td>\n",
              "      <td>0</td>\n",
              "      <td>0</td>\n",
              "      <td>0</td>\n",
              "      <td>0</td>\n",
              "      <td>1</td>\n",
              "      <td>1</td>\n",
              "      <td>0</td>\n",
              "      <td>0</td>\n",
              "      <td>0</td>\n",
              "      <td>1</td>\n",
              "      <td>Low</td>\n",
              "    </tr>\n",
              "    <tr>\n",
              "      <th>6</th>\n",
              "      <td>8</td>\n",
              "      <td>41</td>\n",
              "      <td>Medium</td>\n",
              "      <td>14</td>\n",
              "      <td>-1.0</td>\n",
              "      <td>6</td>\n",
              "      <td>1</td>\n",
              "      <td>1</td>\n",
              "      <td>1</td>\n",
              "      <td>0</td>\n",
              "      <td>0</td>\n",
              "      <td>0</td>\n",
              "      <td>1</td>\n",
              "      <td>0</td>\n",
              "      <td>0</td>\n",
              "      <td>0</td>\n",
              "      <td>1</td>\n",
              "      <td>0</td>\n",
              "      <td>0</td>\n",
              "      <td>0</td>\n",
              "      <td>1</td>\n",
              "      <td>High</td>\n",
              "    </tr>\n",
              "  </tbody>\n",
              "</table>\n",
              "</div>\n",
              "      <button class=\"colab-df-convert\" onclick=\"convertToInteractive('df-5e8e73af-6f33-4e68-958c-0f9eb60e6744')\"\n",
              "              title=\"Convert this dataframe to an interactive table.\"\n",
              "              style=\"display:none;\">\n",
              "        \n",
              "  <svg xmlns=\"http://www.w3.org/2000/svg\" height=\"24px\"viewBox=\"0 0 24 24\"\n",
              "       width=\"24px\">\n",
              "    <path d=\"M0 0h24v24H0V0z\" fill=\"none\"/>\n",
              "    <path d=\"M18.56 5.44l.94 2.06.94-2.06 2.06-.94-2.06-.94-.94-2.06-.94 2.06-2.06.94zm-11 1L8.5 8.5l.94-2.06 2.06-.94-2.06-.94L8.5 2.5l-.94 2.06-2.06.94zm10 10l.94 2.06.94-2.06 2.06-.94-2.06-.94-.94-2.06-.94 2.06-2.06.94z\"/><path d=\"M17.41 7.96l-1.37-1.37c-.4-.4-.92-.59-1.43-.59-.52 0-1.04.2-1.43.59L10.3 9.45l-7.72 7.72c-.78.78-.78 2.05 0 2.83L4 21.41c.39.39.9.59 1.41.59.51 0 1.02-.2 1.41-.59l7.78-7.78 2.81-2.81c.8-.78.8-2.07 0-2.86zM5.41 20L4 18.59l7.72-7.72 1.47 1.35L5.41 20z\"/>\n",
              "  </svg>\n",
              "      </button>\n",
              "      \n",
              "  <style>\n",
              "    .colab-df-container {\n",
              "      display:flex;\n",
              "      flex-wrap:wrap;\n",
              "      gap: 12px;\n",
              "    }\n",
              "\n",
              "    .colab-df-convert {\n",
              "      background-color: #E8F0FE;\n",
              "      border: none;\n",
              "      border-radius: 50%;\n",
              "      cursor: pointer;\n",
              "      display: none;\n",
              "      fill: #1967D2;\n",
              "      height: 32px;\n",
              "      padding: 0 0 0 0;\n",
              "      width: 32px;\n",
              "    }\n",
              "\n",
              "    .colab-df-convert:hover {\n",
              "      background-color: #E2EBFA;\n",
              "      box-shadow: 0px 1px 2px rgba(60, 64, 67, 0.3), 0px 1px 3px 1px rgba(60, 64, 67, 0.15);\n",
              "      fill: #174EA6;\n",
              "    }\n",
              "\n",
              "    [theme=dark] .colab-df-convert {\n",
              "      background-color: #3B4455;\n",
              "      fill: #D2E3FC;\n",
              "    }\n",
              "\n",
              "    [theme=dark] .colab-df-convert:hover {\n",
              "      background-color: #434B5C;\n",
              "      box-shadow: 0px 1px 3px 1px rgba(0, 0, 0, 0.15);\n",
              "      filter: drop-shadow(0px 1px 2px rgba(0, 0, 0, 0.3));\n",
              "      fill: #FFFFFF;\n",
              "    }\n",
              "  </style>\n",
              "\n",
              "      <script>\n",
              "        const buttonEl =\n",
              "          document.querySelector('#df-5e8e73af-6f33-4e68-958c-0f9eb60e6744 button.colab-df-convert');\n",
              "        buttonEl.style.display =\n",
              "          google.colab.kernel.accessAllowed ? 'block' : 'none';\n",
              "\n",
              "        async function convertToInteractive(key) {\n",
              "          const element = document.querySelector('#df-5e8e73af-6f33-4e68-958c-0f9eb60e6744');\n",
              "          const dataTable =\n",
              "            await google.colab.kernel.invokeFunction('convertToInteractive',\n",
              "                                                     [key], {});\n",
              "          if (!dataTable) return;\n",
              "\n",
              "          const docLinkHtml = 'Like what you see? Visit the ' +\n",
              "            '<a target=\"_blank\" href=https://colab.research.google.com/notebooks/data_table.ipynb>data table notebook</a>'\n",
              "            + ' to learn more about interactive tables.';\n",
              "          element.innerHTML = '';\n",
              "          dataTable['output_type'] = 'display_data';\n",
              "          await google.colab.output.renderOutput(dataTable, element);\n",
              "          const docLink = document.createElement('div');\n",
              "          docLink.innerHTML = docLinkHtml;\n",
              "          element.appendChild(docLink);\n",
              "        }\n",
              "      </script>\n",
              "    </div>\n",
              "  </div>\n",
              "  "
            ],
            "text/plain": [
              "   id  age score_text  ...  sex_Female  sex_Male  score_binary\n",
              "0   1   69        Low  ...           0         1           Low\n",
              "1   3   34        Low  ...           0         1           Low\n",
              "2   4   24        Low  ...           0         1           Low\n",
              "5   7   44        Low  ...           0         1           Low\n",
              "6   8   41     Medium  ...           0         1          High\n",
              "\n",
              "[5 rows x 22 columns]"
            ]
          },
          "metadata": {},
          "execution_count": 32
        }
      ]
    },
    {
      "cell_type": "markdown",
      "metadata": {
        "id": "-NKIjUEgRHX6"
      },
      "source": [
        "## Estimate Logistic Regression Model\n",
        "\n",
        "Following ProPublica, we specify the following logistic regression model:"
      ]
    },
    {
      "cell_type": "code",
      "metadata": {
        "id": "Fd07D4i_MUjN",
        "outputId": "2f003171-3af7-4e08-8372-b5f7c23c4f04",
        "colab": {
          "base_uri": "https://localhost:8080/"
        }
      },
      "source": [
        "# Right-hand side\n",
        "explanatory = \"priors_count + two_year_recid + Misdemeanor + \\\n",
        "age_cat_Greater_than_45 + age_cat_Less_than_25 + \\\n",
        "race_African_American + race_Asian + race_Hispanic + race_Native_American + \\\n",
        "race_Other + sex_Female\"\n",
        "\n",
        "# Left-hand side\n",
        "response = \"score_binary\"\n",
        "\n",
        "# Formula\n",
        "formula = response + \" ~ \" + explanatory\n",
        "print(formula)"
      ],
      "execution_count": 33,
      "outputs": [
        {
          "output_type": "stream",
          "name": "stdout",
          "text": [
            "score_binary ~ priors_count + two_year_recid + Misdemeanor + age_cat_Greater_than_45 + age_cat_Less_than_25 + race_African_American + race_Asian + race_Hispanic + race_Native_American + race_Other + sex_Female\n"
          ]
        }
      ]
    },
    {
      "cell_type": "markdown",
      "metadata": {
        "id": "h6Gk-XzAfz0d"
      },
      "source": [
        "Let's fit the model:"
      ]
    },
    {
      "cell_type": "code",
      "metadata": {
        "id": "SXGOejPiNk3E",
        "outputId": "254f32f0-4298-4f79-9423-e9b290565605",
        "colab": {
          "base_uri": "https://localhost:8080/"
        }
      },
      "source": [
        "# Note: using family = sm.families.Binomial() specifies a logistic regression\n",
        "model = sm.formula.glm(formula = formula, \n",
        "                       family = sm.families.Binomial(),\n",
        "                       data = df_logistic).fit()\n",
        "\n",
        "print(model.summary())"
      ],
      "execution_count": 34,
      "outputs": [
        {
          "output_type": "stream",
          "name": "stdout",
          "text": [
            "                              Generalized Linear Model Regression Results                              \n",
            "=======================================================================================================\n",
            "Dep. Variable:     ['score_binary[High]', 'score_binary[Low]']   No. Observations:                 6172\n",
            "Model:                                                     GLM   Df Residuals:                     6160\n",
            "Model Family:                                         Binomial   Df Model:                           11\n",
            "Link Function:                                           logit   Scale:                          1.0000\n",
            "Method:                                                   IRLS   Log-Likelihood:                -3084.2\n",
            "Date:                                         Thu, 27 Jan 2022   Deviance:                       6168.4\n",
            "Time:                                                 01:40:49   Pearson chi2:                 6.07e+03\n",
            "No. Iterations:                                              6                                         \n",
            "Covariance Type:                                     nonrobust                                         \n",
            "===========================================================================================\n",
            "                              coef    std err          z      P>|z|      [0.025      0.975]\n",
            "-------------------------------------------------------------------------------------------\n",
            "Intercept                  -1.5255      0.079    -19.430      0.000      -1.679      -1.372\n",
            "priors_count                0.2689      0.011     24.221      0.000       0.247       0.291\n",
            "two_year_recid              0.6859      0.064     10.713      0.000       0.560       0.811\n",
            "Misdemeanor                -0.3112      0.067     -4.677      0.000      -0.442      -0.181\n",
            "age_cat_Greater_than_45    -1.3556      0.099    -13.682      0.000      -1.550      -1.161\n",
            "age_cat_Less_than_25        1.3084      0.076     17.232      0.000       1.160       1.457\n",
            "race_African_American       0.4772      0.069      6.881      0.000       0.341       0.613\n",
            "race_Asian                 -0.2544      0.478     -0.532      0.595      -1.192       0.683\n",
            "race_Hispanic              -0.4284      0.128     -3.344      0.001      -0.680      -0.177\n",
            "race_Native_American        1.3942      0.766      1.820      0.069      -0.107       2.896\n",
            "race_Other                 -0.8263      0.162     -5.098      0.000      -1.144      -0.509\n",
            "sex_Female                  0.2213      0.080      2.783      0.005       0.065       0.377\n",
            "===========================================================================================\n"
          ]
        }
      ]
    },
    {
      "cell_type": "markdown",
      "metadata": {
        "id": "yJ7CaxsERKus"
      },
      "source": [
        "## Interpret Estimates"
      ]
    },
    {
      "cell_type": "markdown",
      "metadata": {
        "id": "TOE5Yi5dR6rG"
      },
      "source": [
        "Take a moment to read through the model summary. \n",
        "\n",
        "One way to interpret the estimates is by calculating odds ratios. To calculate odds ratios, we take the exponential of the coefficients. For example, taking the exponential of the coefficient for sex_Female ($\\beta_{female}$ = 0.2213) will return the odds of score_text taking the value \"high\" for a female relative to a male. Calculate this odds ratio here:\n",
        "\n"
      ]
    },
    {
      "cell_type": "code",
      "metadata": {
        "id": "m-kJeX2TSu29",
        "outputId": "95cf4512-96b6-457e-c16a-792fbd08ca04",
        "colab": {
          "base_uri": "https://localhost:8080/"
        }
      },
      "source": [
        "# write code to calculate the odds for female defendants here\n",
        "\n",
        "np.exp(0.2213)"
      ],
      "execution_count": 35,
      "outputs": [
        {
          "output_type": "execute_result",
          "data": {
            "text/plain": [
              "1.247697683728402"
            ]
          },
          "metadata": {},
          "execution_count": 35
        }
      ]
    },
    {
      "cell_type": "markdown",
      "metadata": {
        "id": "Zt01yUzKTzG_"
      },
      "source": [
        "In words, the odds that COMPAS labeled a defendant as \"high risk\" of recidivism is 1.25 times greater for a female than a male.\n",
        "\n",
        "Next, calculate the odds ratio for all of the coefficients in the model:"
      ]
    },
    {
      "cell_type": "code",
      "metadata": {
        "id": "8nPb8HKJROFd",
        "outputId": "743d88ee-995f-4639-dae6-08e42c65ef36",
        "colab": {
          "base_uri": "https://localhost:8080/"
        }
      },
      "source": [
        "# write code to calculate the odds ratio for all variables in the \n",
        "# logistic regression model here\n",
        "\n",
        "np.exp(model.params)"
      ],
      "execution_count": 36,
      "outputs": [
        {
          "output_type": "execute_result",
          "data": {
            "text/plain": [
              "Intercept                  0.217504\n",
              "priors_count               1.308584\n",
              "two_year_recid             1.985484\n",
              "Misdemeanor                0.732537\n",
              "age_cat_Greater_than_45    0.257784\n",
              "age_cat_Less_than_25       3.700213\n",
              "race_African_American      1.611567\n",
              "race_Asian                 0.775370\n",
              "race_Hispanic              0.651554\n",
              "race_Native_American       4.031779\n",
              "race_Other                 0.437645\n",
              "sex_Female                 1.247656\n",
              "dtype: float64"
            ]
          },
          "metadata": {},
          "execution_count": 36
        }
      ]
    },
    {
      "cell_type": "markdown",
      "metadata": {
        "id": "YRy_qGPaYj-r"
      },
      "source": [
        "Take a moment to read through these coefficients. What is the reference category for each variable? (e.g. For females, the reference category is male.) Think in terms of comparisons, for example:\n",
        "\n",
        "> A person with a value of [ &nbsp; &nbsp; ] on variable [ &nbsp; &nbsp; ] is [ &nbsp; &nbsp; ] times more likely to be labeled high risk compared to a person with a value of [ &nbsp; &nbsp; ] on variable [ &nbsp; &nbsp; ]\n",
        "\n",
        "In the female example above, this could be stated:\n",
        "\n",
        "> \"A person with a value of female on variable sex is 1.25 times more likely to be labeled high risk compared to a person with a value of male on variable sex\"\n",
        "\n",
        "Of course, we should be more straightforward when writing up results. \"A person with a value of male on variable sex\" is rather verbose; \"males\" will suffice. Interpreting model estimates in straightforward terms is an underrated skill.\n"
      ]
    },
    {
      "cell_type": "markdown",
      "metadata": {
        "id": "5dQBzQ5jSjPy"
      },
      "source": [
        "**Summarize the odds associated with the \"age_cat\" variable in this text cell (two sentences maximum):**\n",
        "\n",
        "It appears that for age_cat, a person who is younger than 25 is around 3.7 times more likely to be labeled high risk compared to a person older than 25. A person who is older than 45 is 0.26 times as likely to be labeled high risk compared to someone younger than 45. "
      ]
    },
    {
      "cell_type": "markdown",
      "metadata": {
        "id": "jrTWMqP7Sytr"
      },
      "source": [
        "Before moving on, think about how the above estimates relate to the concepts of fairness introduced in Lecture 1. (Hint: To what extent do these findings about the assignment of risk labels in COMPAS relate to pre-existing bias, technical bias, and emergent bias). You are not required to write down your answer for completion of this notebook."
      ]
    },
    {
      "cell_type": "markdown",
      "metadata": {
        "id": "CvGGSeCqY-eN"
      },
      "source": [
        "## Predictive Accuracy\n",
        "\n",
        "In terms of fairness, ProPublica focused the predictive accuracy of the COMPAS algorithm. In this case, predictive accuracy refers to the concordance between a person's recidivism and the label assigned to that person by the COMPAS algorithm. For instance, how often did COMPAS predict that a person was at \"high risk\" of recidivism and that person in fact recidivated within two years? We can think of this in terms of a 2x2 table:\n",
        "\n",
        "|      | Did not recidivate | Recidivated   |\n",
        "| :---        |    :----:   |          ---: |\n",
        "| **Labeled high risk**  | A       | B   |\n",
        "| **Labeled low risk**   | C       | D      |\n",
        "\n",
        "ProPublica reported A and D for black defendants and white defendants, separately.\n",
        "\n",
        "What are generic terms for A and D? Why focus on A and D?"
      ]
    },
    {
      "cell_type": "markdown",
      "metadata": {
        "id": "mnVn3FqiLbL3"
      },
      "source": [
        "**Write your answer in this text cell:**\n",
        "\n",
        "A can be considered a False Positive and D can be labeled a False Negative. These are important in this context because they represent decisions that significantly harmed society or an individual. "
      ]
    },
    {
      "cell_type": "markdown",
      "metadata": {
        "id": "d5zVwL9M6yzk"
      },
      "source": [
        "ProPublica used a somewhat different data set to calculate the predictive accuracy of COMPAS. In this section we will use the ```df_logistic``` data we preprocessed above for brevity. Note therefore that the numbers we calculate below will not match those reported by ProPublica. Let's generate a crosstab of the variable denoting recidivism within two years (```is_recid```) and the binary score variable (```score_binary```):"
      ]
    },
    {
      "cell_type": "code",
      "metadata": {
        "id": "JpluSwppZFUe",
        "outputId": "183025ce-74cc-4ab6-8af5-568578b0a1d4",
        "colab": {
          "base_uri": "https://localhost:8080/",
          "height": 161
        }
      },
      "source": [
        "print(\"All defendants\")\n",
        "pd.crosstab(df_logistic[\"score_binary\"], df_logistic[\"is_recid\"])"
      ],
      "execution_count": 37,
      "outputs": [
        {
          "output_type": "stream",
          "name": "stdout",
          "text": [
            "All defendants\n"
          ]
        },
        {
          "output_type": "execute_result",
          "data": {
            "text/html": [
              "\n",
              "  <div id=\"df-b463aae5-b2f6-47cd-9c4a-e9a545d4c397\">\n",
              "    <div class=\"colab-df-container\">\n",
              "      <div>\n",
              "<style scoped>\n",
              "    .dataframe tbody tr th:only-of-type {\n",
              "        vertical-align: middle;\n",
              "    }\n",
              "\n",
              "    .dataframe tbody tr th {\n",
              "        vertical-align: top;\n",
              "    }\n",
              "\n",
              "    .dataframe thead th {\n",
              "        text-align: right;\n",
              "    }\n",
              "</style>\n",
              "<table border=\"1\" class=\"dataframe\">\n",
              "  <thead>\n",
              "    <tr style=\"text-align: right;\">\n",
              "      <th>is_recid</th>\n",
              "      <th>0</th>\n",
              "      <th>1</th>\n",
              "    </tr>\n",
              "    <tr>\n",
              "      <th>score_binary</th>\n",
              "      <th></th>\n",
              "      <th></th>\n",
              "    </tr>\n",
              "  </thead>\n",
              "  <tbody>\n",
              "    <tr>\n",
              "      <th>High</th>\n",
              "      <td>934</td>\n",
              "      <td>1817</td>\n",
              "    </tr>\n",
              "    <tr>\n",
              "      <th>Low</th>\n",
              "      <td>2248</td>\n",
              "      <td>1173</td>\n",
              "    </tr>\n",
              "  </tbody>\n",
              "</table>\n",
              "</div>\n",
              "      <button class=\"colab-df-convert\" onclick=\"convertToInteractive('df-b463aae5-b2f6-47cd-9c4a-e9a545d4c397')\"\n",
              "              title=\"Convert this dataframe to an interactive table.\"\n",
              "              style=\"display:none;\">\n",
              "        \n",
              "  <svg xmlns=\"http://www.w3.org/2000/svg\" height=\"24px\"viewBox=\"0 0 24 24\"\n",
              "       width=\"24px\">\n",
              "    <path d=\"M0 0h24v24H0V0z\" fill=\"none\"/>\n",
              "    <path d=\"M18.56 5.44l.94 2.06.94-2.06 2.06-.94-2.06-.94-.94-2.06-.94 2.06-2.06.94zm-11 1L8.5 8.5l.94-2.06 2.06-.94-2.06-.94L8.5 2.5l-.94 2.06-2.06.94zm10 10l.94 2.06.94-2.06 2.06-.94-2.06-.94-.94-2.06-.94 2.06-2.06.94z\"/><path d=\"M17.41 7.96l-1.37-1.37c-.4-.4-.92-.59-1.43-.59-.52 0-1.04.2-1.43.59L10.3 9.45l-7.72 7.72c-.78.78-.78 2.05 0 2.83L4 21.41c.39.39.9.59 1.41.59.51 0 1.02-.2 1.41-.59l7.78-7.78 2.81-2.81c.8-.78.8-2.07 0-2.86zM5.41 20L4 18.59l7.72-7.72 1.47 1.35L5.41 20z\"/>\n",
              "  </svg>\n",
              "      </button>\n",
              "      \n",
              "  <style>\n",
              "    .colab-df-container {\n",
              "      display:flex;\n",
              "      flex-wrap:wrap;\n",
              "      gap: 12px;\n",
              "    }\n",
              "\n",
              "    .colab-df-convert {\n",
              "      background-color: #E8F0FE;\n",
              "      border: none;\n",
              "      border-radius: 50%;\n",
              "      cursor: pointer;\n",
              "      display: none;\n",
              "      fill: #1967D2;\n",
              "      height: 32px;\n",
              "      padding: 0 0 0 0;\n",
              "      width: 32px;\n",
              "    }\n",
              "\n",
              "    .colab-df-convert:hover {\n",
              "      background-color: #E2EBFA;\n",
              "      box-shadow: 0px 1px 2px rgba(60, 64, 67, 0.3), 0px 1px 3px 1px rgba(60, 64, 67, 0.15);\n",
              "      fill: #174EA6;\n",
              "    }\n",
              "\n",
              "    [theme=dark] .colab-df-convert {\n",
              "      background-color: #3B4455;\n",
              "      fill: #D2E3FC;\n",
              "    }\n",
              "\n",
              "    [theme=dark] .colab-df-convert:hover {\n",
              "      background-color: #434B5C;\n",
              "      box-shadow: 0px 1px 3px 1px rgba(0, 0, 0, 0.15);\n",
              "      filter: drop-shadow(0px 1px 2px rgba(0, 0, 0, 0.3));\n",
              "      fill: #FFFFFF;\n",
              "    }\n",
              "  </style>\n",
              "\n",
              "      <script>\n",
              "        const buttonEl =\n",
              "          document.querySelector('#df-b463aae5-b2f6-47cd-9c4a-e9a545d4c397 button.colab-df-convert');\n",
              "        buttonEl.style.display =\n",
              "          google.colab.kernel.accessAllowed ? 'block' : 'none';\n",
              "\n",
              "        async function convertToInteractive(key) {\n",
              "          const element = document.querySelector('#df-b463aae5-b2f6-47cd-9c4a-e9a545d4c397');\n",
              "          const dataTable =\n",
              "            await google.colab.kernel.invokeFunction('convertToInteractive',\n",
              "                                                     [key], {});\n",
              "          if (!dataTable) return;\n",
              "\n",
              "          const docLinkHtml = 'Like what you see? Visit the ' +\n",
              "            '<a target=\"_blank\" href=https://colab.research.google.com/notebooks/data_table.ipynb>data table notebook</a>'\n",
              "            + ' to learn more about interactive tables.';\n",
              "          element.innerHTML = '';\n",
              "          dataTable['output_type'] = 'display_data';\n",
              "          await google.colab.output.renderOutput(dataTable, element);\n",
              "          const docLink = document.createElement('div');\n",
              "          docLink.innerHTML = docLinkHtml;\n",
              "          element.appendChild(docLink);\n",
              "        }\n",
              "      </script>\n",
              "    </div>\n",
              "  </div>\n",
              "  "
            ],
            "text/plain": [
              "is_recid         0     1\n",
              "score_binary            \n",
              "High           934  1817\n",
              "Low           2248  1173"
            ]
          },
          "metadata": {},
          "execution_count": 37
        }
      ]
    },
    {
      "cell_type": "markdown",
      "metadata": {
        "id": "kojOZPLybCSv"
      },
      "source": [
        "Based on this crosstab, input the number of true positives, false positives, \n",
        "true negatives, and false negatives:"
      ]
    },
    {
      "cell_type": "code",
      "metadata": {
        "id": "D3Av4Eu0ZjFN"
      },
      "source": [
        "true_positive  = 1817#@param {type:\"number\"}\n",
        "false_positive = 934#@param {type:\"number\"}\n",
        "true_negative  = 2248#@param {type:\"number\"}\n",
        "false_negative = 1173#@param {type:\"number\"}"
      ],
      "execution_count": 40,
      "outputs": []
    },
    {
      "cell_type": "markdown",
      "metadata": {
        "id": "pOKUOXBh6rh0"
      },
      "source": [
        "You can calculate the false positive rate by taking FP / (FP + TN), where FP is the number of false positives and TN is the number of true negatives. Calculate the false positive rate:\n",
        "\n"
      ]
    },
    {
      "cell_type": "code",
      "metadata": {
        "id": "VrkCFBzAZa2R",
        "outputId": "bb18acd2-dbc6-4990-fd92-c1b618258d56",
        "colab": {
          "base_uri": "https://localhost:8080/"
        }
      },
      "source": [
        "# write code to calculate the false positive rate for all defendants\n",
        "# in this code cell\n",
        "\n",
        "print('False Positive Rate', false_positive / (false_positive + true_negative) * 100)"
      ],
      "execution_count": 43,
      "outputs": [
        {
          "output_type": "stream",
          "name": "stdout",
          "text": [
            "False Positive Rate 29.352608422375866\n"
          ]
        }
      ]
    },
    {
      "cell_type": "markdown",
      "metadata": {
        "id": "WgmNak0ob2C8"
      },
      "source": [
        "Now calculate the false *negative* rate: (hint, replace the terms in the false positive rate formula in the previous text cell)"
      ]
    },
    {
      "cell_type": "code",
      "metadata": {
        "id": "46bwGfLba3ij",
        "outputId": "18b388e4-64a8-4c25-c566-53c2ba9cdc64",
        "colab": {
          "base_uri": "https://localhost:8080/"
        }
      },
      "source": [
        "# write code to calculate the false negative rate for all defendants\n",
        "# in this code cell\n",
        "\n",
        "print('False Positive Rate', false_negative / (false_negative + true_positive) * 100)"
      ],
      "execution_count": 44,
      "outputs": [
        {
          "output_type": "stream",
          "name": "stdout",
          "text": [
            "False Positive Rate 39.23076923076923\n"
          ]
        }
      ]
    },
    {
      "cell_type": "markdown",
      "metadata": {
        "id": "G1LBhe-f-TTn"
      },
      "source": [
        "How do the false positive and false negative rates vary by sex? Let's generate a crosstab of \"score_binary\" and \"is_recid\" for female defendants:"
      ]
    },
    {
      "cell_type": "code",
      "metadata": {
        "id": "LI3i9zzt-kMG",
        "outputId": "7fcd91df-d109-44a7-a5cc-abc3ccb12fe6",
        "colab": {
          "base_uri": "https://localhost:8080/"
        }
      },
      "source": [
        "mask = df_logistic[\"sex_Female\"] == 1\n",
        "print(pd.crosstab(df_logistic.loc[mask, \"score_binary\"],\n",
        "                  df_logistic.loc[mask, \"is_recid\"]))\n",
        "print(\"Female defendants\")"
      ],
      "execution_count": 45,
      "outputs": [
        {
          "output_type": "stream",
          "name": "stdout",
          "text": [
            "is_recid        0    1\n",
            "score_binary          \n",
            "High          220  256\n",
            "Low           520  179\n",
            "Female defendants\n"
          ]
        }
      ]
    },
    {
      "cell_type": "markdown",
      "metadata": {
        "id": "TFmpimkjZbVJ"
      },
      "source": [
        "Based on this crosstab, calculate the false positive and false negative rates for females:"
      ]
    },
    {
      "cell_type": "code",
      "metadata": {
        "id": "8tzBrFZKb4UI",
        "outputId": "4bec2b9d-f57d-412a-a518-8612a1085a95",
        "colab": {
          "base_uri": "https://localhost:8080/"
        }
      },
      "source": [
        "# write code to calculate the false positive rate and false negative rate for\n",
        "# female defendants in this code cell\n",
        "\n",
        "tp = 256\n",
        "fp = 220\n",
        "tn = 520\n",
        "fn = 179\n",
        "\n",
        "print('False Pos Rate', fp / (fp + tn) * 100)\n",
        "print('False neg Rate', fn / (fn + tp) * 100)"
      ],
      "execution_count": 49,
      "outputs": [
        {
          "output_type": "stream",
          "name": "stdout",
          "text": [
            "False Pos Rate 29.72972972972973\n",
            "False neg Rate 41.14942528735632\n"
          ]
        }
      ]
    },
    {
      "cell_type": "markdown",
      "metadata": {
        "id": "MYowpvPWcooI"
      },
      "source": [
        "Now repeat the process and calculate the false positive rate and false negative rate for male defendants:"
      ]
    },
    {
      "cell_type": "code",
      "metadata": {
        "id": "dlxlpA9SARFT",
        "outputId": "15128c13-ddad-483a-f778-e6721b3005ef",
        "colab": {
          "base_uri": "https://localhost:8080/"
        }
      },
      "source": [
        "# write code to generate a crosstab for male defendants in this code cell\n",
        "\n",
        "mask = df_logistic[\"sex_Male\"] == 1\n",
        "print(pd.crosstab(df_logistic.loc[mask, \"score_binary\"],\n",
        "                  df_logistic.loc[mask, \"is_recid\"]))\n",
        "print(\"Male defendants\")"
      ],
      "execution_count": 50,
      "outputs": [
        {
          "output_type": "stream",
          "name": "stdout",
          "text": [
            "is_recid         0     1\n",
            "score_binary            \n",
            "High           714  1561\n",
            "Low           1728   994\n",
            "Male defendants\n"
          ]
        }
      ]
    },
    {
      "cell_type": "code",
      "metadata": {
        "id": "Yexu8ZUIb78V",
        "outputId": "1250e42e-6b0c-423c-da9e-1d9ed8859520",
        "colab": {
          "base_uri": "https://localhost:8080/"
        }
      },
      "source": [
        "# write code to calculate the false positive rate and false negative rate for\n",
        "# male defendants in this code cell\n",
        "\n",
        "tp = 1561\n",
        "fp = 714\n",
        "tn = 1728\n",
        "fn = 994\n",
        "\n",
        "print('False Pos Rate', fp / (fp + tn) * 100)\n",
        "print('False neg Rate', fn / (fn + tp) * 100)"
      ],
      "execution_count": 51,
      "outputs": [
        {
          "output_type": "stream",
          "name": "stdout",
          "text": [
            "False Pos Rate 29.238329238329236\n",
            "False neg Rate 38.9041095890411\n"
          ]
        }
      ]
    },
    {
      "cell_type": "markdown",
      "metadata": {
        "id": "0Y3odoqE-g0y"
      },
      "source": [
        "How do the false positive and false negative rates vary by race? Calculate the false positive rate and false negative rate for White defendants:"
      ]
    },
    {
      "cell_type": "code",
      "metadata": {
        "id": "_0-offlbBQTy",
        "outputId": "4e7befff-df83-40ea-9d34-8a99ac9fd0c7",
        "colab": {
          "base_uri": "https://localhost:8080/"
        }
      },
      "source": [
        "# write code to generate a crosstab for White defendants in this code cell\n",
        "\n",
        "mask = df_logistic[\"race_Caucasian\"] == 1\n",
        "print(pd.crosstab(df_logistic.loc[mask, \"score_binary\"],\n",
        "                  df_logistic.loc[mask, \"is_recid\"]))\n",
        "print(\"White defendants\")"
      ],
      "execution_count": 53,
      "outputs": [
        {
          "output_type": "stream",
          "name": "stdout",
          "text": [
            "is_recid        0    1\n",
            "score_binary          \n",
            "High          266  430\n",
            "Low           963  444\n",
            "White defendants\n"
          ]
        }
      ]
    },
    {
      "cell_type": "code",
      "metadata": {
        "id": "OZ3qx2aGcGxm",
        "outputId": "c3844b4f-d276-4118-9459-a8e023cc7ffc",
        "colab": {
          "base_uri": "https://localhost:8080/"
        }
      },
      "source": [
        "# write code to calculate the false positive rate and false negative rate for\n",
        "# White defendants in this code cell\n",
        "\n",
        "tp = 430\n",
        "fp = 266\n",
        "tn = 963\n",
        "fn = 444\n",
        "\n",
        "print('False Pos Rate', fp / (fp + tn) * 100)\n",
        "print('False neg Rate', fn / (fn + tp) * 100)"
      ],
      "execution_count": 54,
      "outputs": [
        {
          "output_type": "stream",
          "name": "stdout",
          "text": [
            "False Pos Rate 21.643612693246542\n",
            "False neg Rate 50.800915331807786\n"
          ]
        }
      ]
    },
    {
      "cell_type": "markdown",
      "metadata": {
        "id": "GU0ft0TSe_1m"
      },
      "source": [
        "Lastly, calculate the false positive rate and false negative rate for Black defendants:"
      ]
    },
    {
      "cell_type": "code",
      "metadata": {
        "id": "HUU_w57EfEDk",
        "outputId": "12c968f1-26d7-488d-c151-5af99c9b707b",
        "colab": {
          "base_uri": "https://localhost:8080/"
        }
      },
      "source": [
        "# write code to generate a crosstab for Black defendants in this code cell\n",
        "\n",
        "mask = df_logistic[\"race_African_American\"] == 1\n",
        "print(pd.crosstab(df_logistic.loc[mask, \"score_binary\"],\n",
        "                  df_logistic.loc[mask, \"is_recid\"]))\n",
        "print(\"Black defendants\")"
      ],
      "execution_count": 55,
      "outputs": [
        {
          "output_type": "stream",
          "name": "stdout",
          "text": [
            "is_recid        0     1\n",
            "score_binary           \n",
            "High          581  1248\n",
            "Low           821   525\n",
            "Black defendants\n"
          ]
        }
      ]
    },
    {
      "cell_type": "code",
      "metadata": {
        "id": "kasSRZjkcYET",
        "outputId": "991d92e8-34b0-4adf-cdc9-69fece1f34fc",
        "colab": {
          "base_uri": "https://localhost:8080/"
        }
      },
      "source": [
        "# write code to calculate the false positive rate and false negative rate for\n",
        "# Black defendnats in this code cell\n",
        "\n",
        "tp = 1248\n",
        "fp = 581\n",
        "tn = 821\n",
        "fn = 525\n",
        "\n",
        "print('False Pos Rate', fp / (fp + tn) * 100)\n",
        "print('False neg Rate', fn / (fn + tp) * 100)"
      ],
      "execution_count": 56,
      "outputs": [
        {
          "output_type": "stream",
          "name": "stdout",
          "text": [
            "False Pos Rate 41.44079885877318\n",
            "False neg Rate 29.610829103214893\n"
          ]
        }
      ]
    },
    {
      "cell_type": "markdown",
      "metadata": {
        "id": "w6jHN6nWcP3X"
      },
      "source": [
        "Take a moment to review and compare the false positive rates and false negative rates above. Consider how these rates relate to the concepts of fairness you've encountered in the reading material and Lecture 1. You may write this in a text cell below but it is not required for the completion of your notebook."
      ]
    },
    {
      "cell_type": "markdown",
      "metadata": {
        "id": "06n4G0ShMTWY"
      },
      "source": [
        "# Submitting this Lab Notebook\n",
        "\n",
        "Once complete, please submit your lab notebook as an attachment under \"Assignments > Lab 1\" on Brightspace. You can download a copy of your notebook using ```File > Download .ipynb```. Please ensure you submit the `.ipynb` file (and not a `.py` file)."
      ]
    }
  ]
}